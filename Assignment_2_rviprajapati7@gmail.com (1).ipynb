{
 "cells": [
  {
   "cell_type": "code",
   "execution_count": 3,
   "id": "1bd3bd69-9974-4d5f-b121-ba182a6d07d9",
   "metadata": {},
   "outputs": [],
   "source": [
    "#Answer 1: In Python, you can comment code using the '#' character .There are two types of comments in Python\n",
    "#1 Single-line comments: These comments are used to explain or provide additional information about a single line of code. \n",
    "#They start with the '#' character and continue until the end of the line.\n",
    "# This is a single-line comment\n",
    "x = 10  # Assigning a value to x\n",
    "\"\"\" 2 Multi-line comments: These comments are used multiple lines and are typically used to provide more detailed explanations or\n",
    "to temporarily disable a block of code. In Python, there is no official syntax for multi-line comments,\n",
    "but you can use a multi-line string (enclosed in triple quotes ) as a workaround. \"\"\"\n",
    "\n"
   ]
  },
  {
   "cell_type": "code",
   "execution_count": null,
   "id": "2121496c-543f-4c78-b789-b3a22d14a04d",
   "metadata": {},
   "outputs": [],
   "source": []
  },
  {
   "cell_type": "code",
   "execution_count": 2,
   "id": "5531855e-7bcd-4afc-bf35-8c0d28ae0f52",
   "metadata": {},
   "outputs": [],
   "source": [
    "\"\"\" Answer 2 : In Python variables are used to store data values. They act as storage containers that hold a data,\n",
    "such as numbers, text, or objects.\n",
    "To declare and assign a value to a variable, you can use the following syntax \"\"\"\n",
    "# Assigning a numeric value to a variable\n",
    "age = 25\n",
    "height = 1.75\n",
    "\n",
    "# Assigning a string value to a variable\n",
    "name = \"Ravi Prajapati\"\n",
    "\n",
    "# Assigning a boolean value to a variable\n",
    "istrue = True"
   ]
  },
  {
   "cell_type": "code",
   "execution_count": null,
   "id": "b4e5c3bb-4882-4af6-871e-8f9ec9dfd20b",
   "metadata": {},
   "outputs": [],
   "source": []
  },
  {
   "cell_type": "code",
   "execution_count": 5,
   "id": "d03a6fa6-576b-40b3-8dee-9fdf5f87eccd",
   "metadata": {},
   "outputs": [],
   "source": [
    "\"\"\" Answer 3 : we can convert one data type to another using type conversion functions and methods or typecasting. \n",
    "Here are some commonly used methods for type conversion:\"\"\"\n",
    "#int(): Converts a value to an integer.\n",
    "i = int(3.14) # \n",
    "#float(): Converts a value to a floating-point number.\n",
    "f = float(\"5.6\")  # f will be 5.6"
   ]
  },
  {
   "cell_type": "code",
   "execution_count": null,
   "id": "8826ae31-5c72-45be-8bb8-1c7eed30413c",
   "metadata": {},
   "outputs": [],
   "source": []
  },
  {
   "cell_type": "code",
   "execution_count": null,
   "id": "d956ac32-ccf4-48ab-b13a-6a0624e4a558",
   "metadata": {},
   "outputs": [
    {
     "data": {
      "text/plain": [
       "'Answer 4:To write and execute a Python script from the command line, follow these steps:\\n1 Open a text editor and create a new file with a .py extension. For example, you can create a file named script.py.\\n2 Write your Python code in the file, using any text editor or integrated development environment (IDE). \\nFor example, you can write a simple \"Hello World\" program:\\n3 Save the file.\\n4 Open a command prompt or terminal window.\\n5 Navigate to the directory where you saved your Python script using the cd command. For example, if your script is saved in the \\nDocuments folder, you would use the following command: cd document\\n6 Once you\\'re in the correct directory, you can execute the Python script by typing python followed by the script\\'s filename. \\nFor example: python script.py  '"
      ]
     },
     "execution_count": 8,
     "metadata": {},
     "output_type": "execute_result"
    }
   ],
   "source": [
    "\"\"\"Answer 4:To write and execute a Python script from the command line, follow these steps:\n",
    "1 Open a text editor and create a new file with a .py extension. For example, you can create a file named script.py.\n",
    "2 Write your Python code in the file, using any text editor or integrated development environment (IDE). \n",
    "For example, you can write a simple \"Hello World\" program:\n",
    "3 Save the file.\n",
    "4 Open a command prompt or terminal window.\n",
    "5 Navigate to the directory where you saved your Python script using the cd command. For example, if your script is saved in the \n",
    "Documents folder, you would use the following command: cd document\n",
    "6 Once you're in the correct directory, you can execute the Python script by typing python followed by the script's filename. \n",
    "For example: python script.py  \"\"\""
   ]
  },
  {
   "cell_type": "code",
   "execution_count": null,
   "id": "7c78cdbb-596b-4ef1-8011-9da42317dd90",
   "metadata": {},
   "outputs": [],
   "source": []
  },
  {
   "cell_type": "code",
   "execution_count": 9,
   "id": "24a7ea3e-5288-49db-90b8-f34115f48ba0",
   "metadata": {},
   "outputs": [
    {
     "name": "stdout",
     "output_type": "stream",
     "text": [
      "[2, 3]\n"
     ]
    }
   ],
   "source": [
    "# Answer 5 :\n",
    "my_list = [1, 2, 3, 4, 5]\n",
    "sub_list = my_list[1:3]\n",
    "print(sub_list)"
   ]
  },
  {
   "cell_type": "code",
   "execution_count": null,
   "id": "4ab4d528-e621-46f4-acb1-ca4daad27ecb",
   "metadata": {},
   "outputs": [],
   "source": []
  },
  {
   "cell_type": "code",
   "execution_count": 10,
   "id": "38575c16-3b1c-4d78-a00d-510cfe8e7329",
   "metadata": {},
   "outputs": [
    {
     "data": {
      "text/plain": [
       "complex"
      ]
     },
     "execution_count": 10,
     "metadata": {},
     "output_type": "execute_result"
    }
   ],
   "source": [
    "\"\"\" Answer 6 : \n",
    "In mathematics, a complex number is a number of the form a + bi, where a and b are real numbers, and i is the imaginary unit, \n",
    "defined as the square root of -1. The real part a represents the real component of the complex number, and the imaginary part \n",
    "b represents the imaginary component.\n",
    "In Python, complex numbers are supported as a built-in data type. They are represented using the complex class, and \n",
    "the imaginary unit is denoted by the letter j instead of i. The real and imaginary parts can be either integers or \n",
    "floating-point numbers. The general syntax to represent a complex number in Python is: \"\"\"\n",
    "#for example : \n",
    "z1 = 5 + 7j\n",
    "type(z1)"
   ]
  },
  {
   "cell_type": "code",
   "execution_count": null,
   "id": "b81977a2-601e-43b5-899d-c76913ae9f27",
   "metadata": {},
   "outputs": [],
   "source": []
  },
  {
   "cell_type": "code",
   "execution_count": 11,
   "id": "6425bd83-2bc8-454c-b0fc-71403e48a0f3",
   "metadata": {},
   "outputs": [
    {
     "data": {
      "text/plain": [
       "25"
      ]
     },
     "execution_count": 11,
     "metadata": {},
     "output_type": "execute_result"
    }
   ],
   "source": [
    "# Answer 7 : The correct way to declare a variable named age and assign the value 25 to it in Python is as follows:\n",
    "age =25\n",
    "age"
   ]
  },
  {
   "cell_type": "code",
   "execution_count": 12,
   "id": "7959ff17-8796-458b-812b-c329a58fc59a",
   "metadata": {},
   "outputs": [
    {
     "data": {
      "text/plain": [
       "float"
      ]
     },
     "execution_count": 12,
     "metadata": {},
     "output_type": "execute_result"
    }
   ],
   "source": [
    "# Answer 8 : The variable belong to float data type\n",
    "price = 9.99\n",
    "type(price)"
   ]
  },
  {
   "cell_type": "code",
   "execution_count": 13,
   "id": "a13e85a3-1083-4f70-9ce5-1aae5cff037f",
   "metadata": {},
   "outputs": [
    {
     "name": "stdout",
     "output_type": "stream",
     "text": [
      "Ravi Prajapati\n"
     ]
    }
   ],
   "source": [
    "# Answer 9 :\n",
    "name =\"Ravi Prajapati\"\n",
    "print(name)"
   ]
  },
  {
   "cell_type": "code",
   "execution_count": 14,
   "id": "733d6a0a-07ed-405c-9273-09cfe16531a9",
   "metadata": {},
   "outputs": [
    {
     "name": "stdout",
     "output_type": "stream",
     "text": [
      "World\n"
     ]
    }
   ],
   "source": [
    "# Answer 10 :\n",
    "string = \"Hello, World!\"\n",
    "substring = string[7:12]\n",
    "print(substring)"
   ]
  },
  {
   "cell_type": "code",
   "execution_count": null,
   "id": "f9734812-9168-4f78-b70d-c1fba2aee235",
   "metadata": {},
   "outputs": [],
   "source": []
  }
 ],
 "metadata": {
  "kernelspec": {
   "display_name": "Python 3 (ipykernel)",
   "language": "python",
   "name": "python3"
  },
  "language_info": {
   "codemirror_mode": {
    "name": "ipython",
    "version": 3
   },
   "file_extension": ".py",
   "mimetype": "text/x-python",
   "name": "python",
   "nbconvert_exporter": "python",
   "pygments_lexer": "ipython3",
   "version": "3.10.8"
  }
 },
 "nbformat": 4,
 "nbformat_minor": 5
}
