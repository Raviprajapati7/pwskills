{
 "cells": [
  {
   "cell_type": "markdown",
   "id": "6a27e5bc-bee8-4134-b577-faec57b4ed44",
   "metadata": {},
   "source": [
    "Q1. Create a vehicle class with an init method having instance variables as name_of_vehicle, max_speed\n",
    "and average_of_vehicle."
   ]
  },
  {
   "cell_type": "code",
   "execution_count": 18,
   "id": "c2dcaf7e-97f8-461d-9360-b8ee6e8a1739",
   "metadata": {},
   "outputs": [],
   "source": [
    "#Answer 1\n",
    "class Vehicle:\n",
    "    def __init__(self, name_of_vehicle, max_speed, average_speed):\n",
    "        self.name_of_vehicle = name_of_vehicle\n",
    "        self.max_speed = max_speed\n",
    "        self.average_speed = average_speed"
   ]
  },
  {
   "cell_type": "code",
   "execution_count": 20,
   "id": "5c36b435-f56d-43b0-95de-9d731b7fbf64",
   "metadata": {},
   "outputs": [
    {
     "name": "stdout",
     "output_type": "stream",
     "text": [
      "Fortuner\n",
      "200\n",
      "100\n"
     ]
    }
   ],
   "source": [
    "cars=Vehicle(\"Fortuner\",200,100)\n",
    "print(cars.name_of_vehicle)\n",
    "print(cars.max_speed)\n",
    "print(cars.average_speed)"
   ]
  },
  {
   "cell_type": "markdown",
   "id": "a1820bdc-b4f4-433b-ad74-25866c09ffcc",
   "metadata": {},
   "source": [
    "    "
   ]
  },
  {
   "cell_type": "markdown",
   "id": "2c897083-8282-4337-99ec-0dcab3fb8d21",
   "metadata": {},
   "source": [
    "Q2. Create a child class car from the vehicle class created in Que 1, which will inherit the vehicle class.\n",
    "Create a method named seating_capacity which takes capacity as an argument and returns the name of\n",
    "the vehicle and its seating capacity."
   ]
  },
  {
   "cell_type": "code",
   "execution_count": 28,
   "id": "1878dea0-9420-45a1-b83d-8db5c9478ec8",
   "metadata": {},
   "outputs": [],
   "source": [
    "#Answer 2\n",
    "class Car(Vehicle):\n",
    "    def seating_capacity(self, capacity):\n",
    "        return f\"The {self.name_of_vehicle} has a seating capacity of {capacity} people.\""
   ]
  },
  {
   "cell_type": "code",
   "execution_count": 27,
   "id": "03d3263c-423b-45c8-9997-98fe104652be",
   "metadata": {},
   "outputs": [
    {
     "name": "stdout",
     "output_type": "stream",
     "text": [
      "Fortuner\n",
      "200\n",
      "100\n",
      "The Fortuner has a seating capacity of 6 people.\n"
     ]
    }
   ],
   "source": [
    "car=Car(\"Fortuner\",200,100)\n",
    "print(cars.name_of_vehicle)\n",
    "print(cars.max_speed)\n",
    "print(cars.average_speed)\n",
    "print(car.seating_capacity(6))"
   ]
  },
  {
   "cell_type": "markdown",
   "id": "e985714f-ee8c-4063-9e03-d19874ec7e65",
   "metadata": {},
   "source": [
    "   "
   ]
  },
  {
   "cell_type": "markdown",
   "id": "e54edacc-c718-4cfd-8fd7-b97fc954a454",
   "metadata": {},
   "source": [
    "Q3. What is multiple inheritance? Write a python code to demonstrate multiple inheritance."
   ]
  },
  {
   "cell_type": "markdown",
   "id": "6bb4d51a-1247-4bcc-aacd-1a2ff081d4ba",
   "metadata": {},
   "source": [
    "Answer 3:Multiple inheritance is a feature in object-oriented programming where a class can inherit attributes and methods from multiple parent classes. This allows a child class to inherit and combine the characteristics of multiple classes."
   ]
  },
  {
   "cell_type": "code",
   "execution_count": 38,
   "id": "df90df62-d8f8-4f1e-98d7-0cb9825e866e",
   "metadata": {},
   "outputs": [],
   "source": [
    "class class1:\n",
    "    def meth1(self):\n",
    "        return \" hello \""
   ]
  },
  {
   "cell_type": "code",
   "execution_count": 39,
   "id": "baec975b-d73c-427b-8936-b168dc277c38",
   "metadata": {},
   "outputs": [],
   "source": [
    "class class2:\n",
    "    def meth2(self):\n",
    "        return\" sir\""
   ]
  },
  {
   "cell_type": "code",
   "execution_count": 40,
   "id": "171ff54e-07e4-42de-a804-5115f6866c79",
   "metadata": {},
   "outputs": [],
   "source": [
    "class class3(class1,class2):\n",
    "    pass"
   ]
  },
  {
   "cell_type": "code",
   "execution_count": 41,
   "id": "851727c7-67a0-4eee-adf1-5f6c4f310ad0",
   "metadata": {},
   "outputs": [],
   "source": [
    "class3_obj=class3()"
   ]
  },
  {
   "cell_type": "code",
   "execution_count": 43,
   "id": "326e9eae-8624-4eca-afed-d85bea3a0639",
   "metadata": {},
   "outputs": [
    {
     "name": "stdout",
     "output_type": "stream",
     "text": [
      " hello \n",
      " sir\n"
     ]
    }
   ],
   "source": [
    "print(class3_obj.meth1())\n",
    "print(class3_obj.meth2())"
   ]
  },
  {
   "cell_type": "markdown",
   "id": "3532f603-c15e-4212-8013-2704ed5cb2cb",
   "metadata": {},
   "source": [
    "   "
   ]
  },
  {
   "cell_type": "markdown",
   "id": "5b5067ce-bb9b-431a-b28b-1db58b3aab5c",
   "metadata": {},
   "source": [
    "Q4. What are getter and setter in python? Create a class and create a getter and a setter method in this\n",
    "class.\n",
    "\n",
    "Answer 4: Getters and setters are methods used to access and modify the values of class attributes, providing a way to encapsulate and control access to the data within an object. Getters are used to retrieve the value of an attribute, while setters are used to modify or update the value of an attribute. They are often used to enforce data validation and implement controlled access to class attributes.\n",
    "Here's an example of a class called \"Person\" with a private attribute called \"age\". The class includes a getter method called get_age() and a setter method called set_age() to access and modify the \"age\" attribute:"
   ]
  },
  {
   "cell_type": "code",
   "execution_count": 46,
   "id": "cd2eddbb-79b3-4c50-8a16-b9de21321fd9",
   "metadata": {},
   "outputs": [
    {
     "name": "stdout",
     "output_type": "stream",
     "text": [
      "25\n",
      "30\n",
      "Invalid age!\n",
      "30\n"
     ]
    }
   ],
   "source": [
    "class Person:\n",
    "    def __init__(self, name, age):\n",
    "        self.name = name\n",
    "        self.__age = age\n",
    "    def get_age(self):\n",
    "        return self.__age\n",
    "    def set_age(self, new_age):\n",
    "        if new_age > 0:\n",
    "            self.__age = new_age\n",
    "        else:\n",
    "            print(\"Invalid age!\")\n",
    "            \n",
    "\n",
    "person = Person(\"Ravi\", 25)\n",
    "# Accessing the age attribute using the getter\n",
    "print(person.get_age())       \n",
    "# Modifying the age attribute using the setter\n",
    "person.set_age(30)\n",
    "print(person.get_age())       \n",
    "# Trying to set an invalid age\n",
    "person.set_age(-5)            \n",
    "print(person.get_age())       "
   ]
  },
  {
   "cell_type": "markdown",
   "id": "01f3194f-02c0-4437-899c-4fa5689c846d",
   "metadata": {},
   "source": [
    "  "
   ]
  },
  {
   "cell_type": "markdown",
   "id": "987486c5-c6c4-4d5e-9785-356cadfb8a69",
   "metadata": {},
   "source": [
    "Q5.What is method overriding in python? Write a python code to demonstrate method overriding.\n",
    "\n",
    "Answer 5: Method overriding is a concept in object-oriented programming where a subclass provides a different implementation of a method that is already defined in its parent class. The method in the subclass overrides the implementation of the same-named method in the parent class, allowing the subclass to provide its own specific behavior.\n",
    "Here's an example code in Python that demonstrates method overriding:"
   ]
  },
  {
   "cell_type": "code",
   "execution_count": 51,
   "id": "0a806bb8-4882-41f6-9c5e-84d876a6aecf",
   "metadata": {},
   "outputs": [],
   "source": [
    "class data_science:\n",
    "    def syllabus(self):\n",
    "        print(\"data science\")"
   ]
  },
  {
   "cell_type": "code",
   "execution_count": 48,
   "id": "4e69db02-94fd-437e-ab14-7c8ffc56fbd7",
   "metadata": {},
   "outputs": [],
   "source": [
    "class web_dev:\n",
    "    def syllabus(self):\n",
    "        print(\"web dev\")"
   ]
  },
  {
   "cell_type": "code",
   "execution_count": 52,
   "id": "d352830b-154a-4ba7-80cb-52156eeb936d",
   "metadata": {},
   "outputs": [],
   "source": [
    "def class_parcer(class_obj):\n",
    "    for i in class_obj:\n",
    "        i.syllabus()"
   ]
  },
  {
   "cell_type": "code",
   "execution_count": 53,
   "id": "f0bd6cdc-75e5-4730-b57a-3694b3798d2c",
   "metadata": {},
   "outputs": [],
   "source": [
    "data_science = data_science()"
   ]
  },
  {
   "cell_type": "code",
   "execution_count": 54,
   "id": "73777fa9-03a3-4eca-b188-3a275128e160",
   "metadata": {},
   "outputs": [],
   "source": [
    "web_dev = web_dev()"
   ]
  },
  {
   "cell_type": "code",
   "execution_count": 55,
   "id": "d1258d82-c4e7-46a4-b516-6892080f3ca6",
   "metadata": {},
   "outputs": [
    {
     "name": "stdout",
     "output_type": "stream",
     "text": [
      "data science\n",
      "web dev\n"
     ]
    }
   ],
   "source": [
    "class_obj = [data_science,web_dev] \n",
    "class_parcer(class_obj)"
   ]
  },
  {
   "cell_type": "code",
   "execution_count": null,
   "id": "2a5fcdc0-2236-473c-a853-dd269214622a",
   "metadata": {},
   "outputs": [],
   "source": []
  }
 ],
 "metadata": {
  "kernelspec": {
   "display_name": "Python 3 (ipykernel)",
   "language": "python",
   "name": "python3"
  },
  "language_info": {
   "codemirror_mode": {
    "name": "ipython",
    "version": 3
   },
   "file_extension": ".py",
   "mimetype": "text/x-python",
   "name": "python",
   "nbconvert_exporter": "python",
   "pygments_lexer": "ipython3",
   "version": "3.10.8"
  }
 },
 "nbformat": 4,
 "nbformat_minor": 5
}
