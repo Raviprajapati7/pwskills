{
 "cells": [
  {
   "cell_type": "markdown",
   "id": "efd45875-70dc-4722-8eab-6af28209adfa",
   "metadata": {},
   "source": [
    "Q1. Write a code to print the data present in the second row of the dataframe, df.\n",
    "\n",
    "Answer1:"
   ]
  },
  {
   "cell_type": "code",
   "execution_count": 1,
   "id": "b1f9d6af-62b6-411d-9ce3-29948edaa748",
   "metadata": {},
   "outputs": [
    {
     "name": "stdout",
     "output_type": "stream",
     "text": [
      "course_name    Machine Learning\n",
      "duration                      3\n",
      "Name: 1, dtype: object\n"
     ]
    }
   ],
   "source": [
    "import pandas as pd\n",
    "\n",
    "course_name = ['Data Science', 'Machine Learning', 'Big Data', 'Data Engineer']\n",
    "duration = [2, 3, 6, 4]\n",
    "\n",
    "df = pd.DataFrame(data={'course_name': course_name, 'duration': duration})\n",
    "\n",
    "# Print the data in the second row\n",
    "print(df.iloc[1])\n"
   ]
  },
  {
   "cell_type": "code",
   "execution_count": null,
   "id": "49bb6f37-da76-49ff-90a7-ea46b117800a",
   "metadata": {},
   "outputs": [],
   "source": []
  },
  {
   "cell_type": "markdown",
   "id": "a871caa0-3822-49de-a630-938b9462a681",
   "metadata": {},
   "source": [
    "Q2. What is the difference between the functions loc and iloc in pandas.DataFrame?\n",
    "\n",
    "Answer 2:In Pandas, the loc and iloc are both indexing functions used to access data in a DataFrame, but they have some differences in how they handle indexing.\n",
    "\n",
    "1.loc: The loc function is label-based indexing, meaning it uses the labels or names of rows and columns to access data. It allows you to select data based on the row and column labels.\n",
    "\n",
    "Syntax: df.loc[row_indexer, column_indexer]\n",
    "Here, the row_indexer and column_indexer can be single labels, lists of labels, or slices. It can also accept boolean arrays, allowing you to filter rows based on conditions.\n",
    "\n",
    "Example:"
   ]
  },
  {
   "cell_type": "code",
   "execution_count": 2,
   "id": "e0ff9bac-181d-49fe-8149-b18ea656fc13",
   "metadata": {},
   "outputs": [
    {
     "name": "stdout",
     "output_type": "stream",
     "text": [
      "5\n",
      "\n",
      "A    1\n",
      "B    4\n",
      "C    7\n",
      "Name: X, dtype: int64\n",
      "\n",
      "   A  B  C\n",
      "X  1  4  7\n",
      "Z  3  6  9\n"
     ]
    }
   ],
   "source": [
    "import pandas as pd\n",
    "\n",
    "data = {'A': [1, 2, 3], 'B': [4, 5, 6], 'C': [7, 8, 9]}\n",
    "df = pd.DataFrame(data, index=['X', 'Y', 'Z'])\n",
    "\n",
    "# Selecting a single value\n",
    "print(df.loc['Y', 'B'])\n",
    "print('\\r')\n",
    "\n",
    "# Selecting a row using a label\n",
    "print(df.loc['X'])\n",
    "print('\\r')\n",
    "\n",
    "# Selecting multiple rows using a list of labels\n",
    "print(df.loc[['X', 'Z']])"
   ]
  },
  {
   "cell_type": "markdown",
   "id": "42f90d4c-7c90-4ac7-9bf9-65e2f5241301",
   "metadata": {},
   "source": [
    "2.iloc: The iloc function is integer-based indexing, which means it uses integer positions or indices to access data. It allows you to select data based on the integer location of rows and columns.\n",
    "\n",
    "Syntax: df.iloc[row_indexer, column_indexer]\n",
    "Similar to loc, the row_indexer and column_indexer can be single integers, lists of integers, or slices.\n",
    "\n",
    "Example:"
   ]
  },
  {
   "cell_type": "code",
   "execution_count": 3,
   "id": "e866f904-6749-40ca-b9c2-01bc69e76423",
   "metadata": {},
   "outputs": [
    {
     "name": "stdout",
     "output_type": "stream",
     "text": [
      "8\n",
      "\n",
      "A    1\n",
      "B    4\n",
      "C    7\n",
      "Name: 0, dtype: int64\n",
      "\n",
      "   A  B  C\n",
      "0  1  4  7\n",
      "2  3  6  9\n"
     ]
    }
   ],
   "source": [
    "import pandas as pd\n",
    "\n",
    "data = {'A': [1, 2, 3], 'B': [4, 5, 6], 'C': [7, 8, 9]}\n",
    "df = pd.DataFrame(data)\n",
    "\n",
    "# Selecting a single value\n",
    "print(df.iloc[1, 2]) \n",
    "print('\\r')\n",
    "# Selecting a row using an integer index\n",
    "print(df.iloc[0])  \n",
    "print('\\r')\n",
    "# Selecting multiple rows using a list of integers\n",
    "print(df.iloc[[0, 2]])  "
   ]
  },
  {
   "cell_type": "markdown",
   "id": "0f91dc64-d6e6-4721-a7d1-cb5b8770a895",
   "metadata": {},
   "source": [
    "Q3. Reindex the given dataframe using a variable, reindex = [3,0,1,2] and store it in the variable, new_df then find the output for both new_df.loc[2] and new_df.iloc[2].Did you observe any difference in both the outputs? If so then explain it.Consider the below code to answer further questions:\n",
    "\n",
    "Answer3:"
   ]
  },
  {
   "cell_type": "code",
   "execution_count": 4,
   "id": "b1b643da-e9c5-4412-b779-38e4b4f5abed",
   "metadata": {},
   "outputs": [
    {
     "name": "stdout",
     "output_type": "stream",
     "text": [
      "column_1    0.135593\n",
      "column_2    0.221273\n",
      "column_3    0.942483\n",
      "column_4    0.514018\n",
      "column_5    0.364625\n",
      "column_6    0.507467\n",
      "Name: 2, dtype: float64\n",
      "column_1    0.503624\n",
      "column_2    0.756309\n",
      "column_3    0.306025\n",
      "column_4    0.515137\n",
      "column_5    0.522049\n",
      "column_6    0.955128\n",
      "Name: 1, dtype: float64\n"
     ]
    }
   ],
   "source": [
    "import pandas as pd\n",
    "import numpy as np\n",
    "\n",
    "columns = ['column_1', 'column_2', 'column_3', 'column_4', 'column_5', 'column_6']\n",
    "indices = [1, 2, 3, 4, 5, 6]\n",
    "\n",
    "# Creating a DataFrame\n",
    "df1 = pd.DataFrame(np.random.rand(6, 6), columns=columns, index=indices)\n",
    "\n",
    "# Reindexing the DataFrame\n",
    "reindex = [3, 0, 1, 2]\n",
    "new_df = df1.reindex(reindex)\n",
    "\n",
    "# Accessing the data using loc\n",
    "print(new_df.loc[2])\n",
    "\n",
    "# Accessing the data using iloc\n",
    "print(new_df.iloc[2])\n"
   ]
  },
  {
   "cell_type": "markdown",
   "id": "5ba0f334-c493-436e-b58a-799913648a32",
   "metadata": {},
   "source": [
    "Observations:\n",
    "\n",
    "1 The output for new_df.loc[2] returns the row labeled with 2 after reindexing. It shows the data corresponding to index 2 in the new_df DataFrame.\n",
    "\n",
    "2 The output for new_df.iloc[2] returns the third row of the DataFrame based on the integer position after reindexing. It shows the data at the third index position in the new_df DataFrame.\n",
    "\n",
    "3The outputs for new_df.loc[2] and new_df.iloc[2] are different because loc accesses data based on labels, while iloc accesses data based on integer positions. Since the rows are reindexed, the label-based and position-based access will retrieve different rows of data from the DataFrame."
   ]
  },
  {
   "cell_type": "markdown",
   "id": "8481113d-10dc-4521-a1bf-477112b89bd7",
   "metadata": {},
   "source": [
    "   "
   ]
  },
  {
   "cell_type": "markdown",
   "id": "287c0985-ec33-45bf-9b3d-9cd260e6b5d9",
   "metadata": {},
   "source": [
    "Q4. Write a code to find the following statistical measurements for the above dataframe df1:\n",
    "\n",
    "(i) mean of each and every column present in the dataframe.\n",
    "\n",
    "(ii) standard deviation of column, ‘column_2’\n",
    "\n",
    "Answer4:"
   ]
  },
  {
   "cell_type": "code",
   "execution_count": 5,
   "id": "3aea1314-eb7c-42b7-9555-cab114be5e36",
   "metadata": {},
   "outputs": [
    {
     "name": "stdout",
     "output_type": "stream",
     "text": [
      "Mean of each column:\n",
      "column_1    0.557783\n",
      "column_2    0.539179\n",
      "column_3    0.559619\n",
      "column_4    0.427647\n",
      "column_5    0.561838\n",
      "column_6    0.532843\n",
      "dtype: float64\n",
      "\n",
      "Standard deviation of 'column_2':\n",
      "0.28136858332488024\n"
     ]
    }
   ],
   "source": [
    "import pandas as pd\n",
    "import numpy as np\n",
    "\n",
    "columns = ['column_1', 'column_2', 'column_3', 'column_4', 'column_5', 'column_6']\n",
    "indices = [1, 2, 3, 4, 5, 6]\n",
    "\n",
    "# Creating a DataFrame\n",
    "df1 = pd.DataFrame(np.random.rand(6, 6), columns=columns, index=indices)\n",
    "\n",
    "# Mean of each column\n",
    "mean_values = df1.mean()\n",
    "print(\"Mean of each column:\")\n",
    "print(mean_values)\n",
    "\n",
    "# Standard deviation of 'column_2'\n",
    "std_deviation = df1['column_2'].std()\n",
    "print(\"\\nStandard deviation of 'column_2':\")\n",
    "print(std_deviation)"
   ]
  },
  {
   "cell_type": "markdown",
   "id": "10308e60-4086-4526-9081-2bd0c760deb5",
   "metadata": {},
   "source": [
    "   "
   ]
  },
  {
   "cell_type": "markdown",
   "id": "cc806dd9-4bba-4e67-bd44-e9bc2ac85f46",
   "metadata": {},
   "source": [
    "Q5. Replace the data present in the second row of column, ‘column_2’ by a string variable then find the mean of column, column_2.\n",
    "If you are getting errors in executing it then explain why.\n",
    "\n",
    "[Hint: To replace the data use df1.loc[] and equate this to string data of your choice.]\n",
    "\n",
    "#Answer 5:To replace the data present in the second row of 'column_2' with a string variable, you can use df1.loc[row_indexer, column_indexer] and assign it a string value of your choice. However, replacing the numerical data with a string will cause an error when computing the mean since the column should contain numeric values for mean calculation.\n",
    "\n",
    "Here's the code that demonstrates the replacement and the subsequent error:"
   ]
  },
  {
   "cell_type": "code",
   "execution_count": 6,
   "id": "37c8139c-f547-44a2-a7a2-20ee40de11b2",
   "metadata": {},
   "outputs": [
    {
     "name": "stdout",
     "output_type": "stream",
     "text": [
      "unsupported operand type(s) for +: 'float' and 'str'\n"
     ]
    }
   ],
   "source": [
    "import pandas as pd\n",
    "import numpy as np\n",
    "\n",
    "columns = ['column_1', 'column_2', 'column_3', 'column_4', 'column_5', 'column_6']\n",
    "indices = [1, 2, 3, 4, 5, 6]\n",
    "\n",
    "# Creating a DataFrame\n",
    "df1 = pd.DataFrame(np.random.rand(6, 6), columns=columns, index=indices)\n",
    "try:   \n",
    "    # Replacing the data in the second row of 'column_2' with a string\n",
    "    df1.loc[2, 'column_2'] = 'String data'\n",
    "\n",
    "    # Calculating the mean of 'column_2'\n",
    "    mean_column2 = df1['column_2'].mean()\n",
    "    print(\"Mean of 'column_2':\", mean_column2)\n",
    "except Exception as e:\n",
    "    print(e)\n"
   ]
  },
  {
   "cell_type": "markdown",
   "id": "09c95e8f-030f-476d-a58c-d06f4b0b5245",
   "metadata": {},
   "source": [
    "Explanation:\n",
    "\n",
    "The code attempts to replace the data in the second row of 'column_2' with a string using df1.loc[2, 'column_2'] = 'String data'. However, this operation will cause a TypeError because the column is expected to contain numeric values, and replacing them with a string violates this requirement.\n",
    "\n",
    "As a result, when trying to calculate the mean of 'column_2' using df1['column_2'].mean(), an error occurs, preventing the calculation from executing successfully.\n",
    "\n",
    "To avoid this error, ensure that the data in the column you intend to calculate the mean is of a numeric type."
   ]
  },
  {
   "cell_type": "markdown",
   "id": "1ad55518-3de2-4f0e-b9fd-4b1ffdad6bc6",
   "metadata": {},
   "source": [
    "   "
   ]
  },
  {
   "cell_type": "markdown",
   "id": "20e7361c-8514-4c15-8354-15edd85057b5",
   "metadata": {},
   "source": [
    "Q6. What do you understand about the windows function in pandas and list the types of windows functions?\n",
    "\n",
    "Answer6:In pandas, window functions are a powerful feature that allows performing calculations on a specific window or subset of data within a DataFrame. These functions operate on a sliding or rolling window of data defined by a window size and an optional offset. The window functions in pandas can be applied to perform various operations such as aggregations, transformations, and more.\n",
    "\n",
    "There are several types of window functions available in pandas:\n",
    "\n",
    "1 Aggregation Functions:\n",
    "    \n",
    "    sum(): Calculates the sum of values in the window.\n",
    "    \n",
    "    mean(): Computes the mean (average) of values in the window.\n",
    "    \n",
    "    median(): Calculates the median of values in the window.\n",
    "    \n",
    "    min(): Finds the minimum value in the window.\n",
    "    \n",
    "    max(): Finds the maximum value in the window.\n",
    "\n",
    "    count(): Counts the number of non-null values in the window.\n",
    "    \n",
    "    std(): Computes the standard deviation of values in the window.\n",
    "    \n",
    "    var(): Calculates the variance of values in the window.\n",
    "    \n",
    "2 Expanding Functions:\n",
    "\n",
    "    expanding(): Calculates expanding window functions, which apply the function to all the data from the start until the current point.\n",
    "\n",
    "3 Rolling Functions:\n",
    "\n",
    "    rolling(): Performs rolling window functions, which apply the function to a fixed-size window that slides along the data.\n",
    "    \n",
    "4 Transformation Functions:\n",
    "\n",
    "    rank(): Assigns ranks to values in the window.\n",
    "\n",
    "    shift(): Shifts the values in the window by a specified number of periods.\n",
    "    \n",
    "    diff(): Computes the difference between the current value and the previous value in the window.\n",
    "    \n",
    "    pct_change(): Calculates the percentage change between the current value and the previous value in the window.\n",
    "    \n",
    "Here's an example that demonstrates the usage of the rolling window function in pandas:"
   ]
  },
  {
   "cell_type": "markdown",
   "id": "ece66d22-5f27-47ce-ae41-884307ecb185",
   "metadata": {},
   "source": [
    "import pandas as pd\n",
    "\n",
    "# Create a sample DataFrame\n",
    "data = {'A': [10, 20, 30, 40, 50]}\n",
    "df = pd.DataFrame(data)\n",
    "\n",
    "# Apply rolling mean with window size 3\n",
    "df['rolling_mean'] = df['A'].rolling(window=3).mean()\n",
    "\n",
    "print(df)\n"
   ]
  },
  {
   "cell_type": "markdown",
   "id": "de88cdb7-0c78-497b-a663-a20ea2c61427",
   "metadata": {},
   "source": [
    "   "
   ]
  },
  {
   "cell_type": "markdown",
   "id": "03f05a2a-ad40-49ab-bf30-6ad32dadd67e",
   "metadata": {},
   "source": [
    "Q7. Write a code to print only the current month and year at the time of answering this question.\n",
    "[Hint: Use pandas.datetime function]\n",
    "\n",
    "Answer7:"
   ]
  },
  {
   "cell_type": "code",
   "execution_count": 7,
   "id": "53a1cbd7-cb05-492b-b6d4-d4580942f18d",
   "metadata": {},
   "outputs": [
    {
     "name": "stdout",
     "output_type": "stream",
     "text": [
      "Current Month: 7\n",
      "Current Year: 2023\n"
     ]
    }
   ],
   "source": [
    "import pandas as pd\n",
    "\n",
    "# Get the current date and time\n",
    "current_datetime = pd.to_datetime('today')\n",
    "\n",
    "# Extract the month and year from the current date\n",
    "current_month = current_datetime.month\n",
    "current_year = current_datetime.year\n",
    "\n",
    "# Print the current month and year\n",
    "print(\"Current Month:\", current_month)\n",
    "print(\"Current Year:\", current_year)\n"
   ]
  },
  {
   "cell_type": "markdown",
   "id": "c449844b-c418-44f6-a363-ead7da55cda6",
   "metadata": {},
   "source": [
    "    "
   ]
  },
  {
   "cell_type": "markdown",
   "id": "6d711fa5-fa0d-4cb2-9850-c8d8f67a2ceb",
   "metadata": {},
   "source": [
    "Q8. Write a Python program that takes in two dates as input (in the format YYYY-MM-DD) and calculates the difference between them in days, hours, and minutes using Pandas time delta. The program should prompt the user to enter the dates and display the result.\n",
    "\n",
    "Answer8:"
   ]
  },
  {
   "cell_type": "code",
   "execution_count": 8,
   "id": "e5e1f072-6f01-4b23-96ea-21919f1a2935",
   "metadata": {},
   "outputs": [
    {
     "name": "stdin",
     "output_type": "stream",
     "text": [
      "Enter the first date (YYYY-MM-DD):  2023-05-6\n",
      "Enter the second date (YYYY-MM-DD):  2023-07-07\n"
     ]
    },
    {
     "name": "stdout",
     "output_type": "stream",
     "text": [
      "Time difference:\n",
      "62 days, 0 hours, 0 minutes\n"
     ]
    }
   ],
   "source": [
    "import pandas as pd\n",
    "\n",
    "# Prompt the user to enter the first date\n",
    "date1 = input(\"Enter the first date (YYYY-MM-DD): \")\n",
    "\n",
    "# Prompt the user to enter the second date\n",
    "date2 = input(\"Enter the second date (YYYY-MM-DD): \")\n",
    "\n",
    "# Convert the input dates to Pandas datetime objects\n",
    "date1 = pd.to_datetime(date1)\n",
    "date2 = pd.to_datetime(date2)\n",
    "\n",
    "# Calculate the time difference\n",
    "time_diff = date2 - date1\n",
    "\n",
    "# Extract the days, hours, and minutes from the time difference\n",
    "days = time_diff.days\n",
    "hours = time_diff.seconds // 3600\n",
    "minutes = (time_diff.seconds % 3600) // 60\n",
    "\n",
    "# Display the result\n",
    "print(\"Time difference:\")\n",
    "print(f\"{days} days, {hours} hours, {minutes} minutes\")"
   ]
  },
  {
   "cell_type": "markdown",
   "id": "e56638be-10b4-461a-b605-0c085f300287",
   "metadata": {},
   "source": [
    "   "
   ]
  },
  {
   "cell_type": "markdown",
   "id": "cc4d857f-cb65-489b-bd1d-47f450b878d0",
   "metadata": {},
   "source": [
    "Q9. Write a Python program that reads a CSV file containing categorical data and converts a specified column to a categorical data type. The program should prompt the user to enter the file path, column name, and category order, and then display the sorted data.\n",
    "\n",
    "Answer 9:"
   ]
  },
  {
   "cell_type": "code",
   "execution_count": 24,
   "id": "343b3b44-d925-4e06-9bfa-19afd8009e77",
   "metadata": {},
   "outputs": [
    {
     "name": "stdin",
     "output_type": "stream",
     "text": [
      "Enter the file path:  cereal.csv\n",
      "Enter the column name:  day\n",
      "Enter the category order (comma-separated):  mon,tue,wed,fri,sat,sun\n"
     ]
    },
    {
     "name": "stdout",
     "output_type": "stream",
     "text": [
      "    X  Y month  day  FFMC    DMC     DC   ISI  temp  RH  wind  rain  area\n",
      "13  6  5   sep  mon  90.9  126.5  686.5   7.0  21.3  42   2.2   0.0     0\n",
      "21  5  4   sep  mon  91.8   78.5  724.3   9.2  19.1  38   2.7   0.0     0\n",
      "17  8  5   oct  mon  84.9   32.8  664.2   3.0  16.7  47   4.9   0.0     0\n",
      "7   8  6   aug  mon  91.5  145.4  608.2  10.7   8.0  86   2.2   0.0     0\n",
      "6   8  6   aug  mon  92.3   88.9  495.6   8.5  24.1  27   3.1   0.0     0\n",
      "27  7  4   sep  mon  90.9  126.5  686.5   7.0  19.4  48   1.3   0.0     0\n",
      "8   8  6   sep  tue  91.0  129.5  692.6   7.0  13.1  63   5.4   0.0     0\n",
      "1   7  4   oct  tue  90.6   35.4  669.1   6.7  18.0  33   0.9   0.0     0\n",
      "20  6  4   sep  tue  91.0  129.5  692.6   7.0  18.3  40   2.7   0.0     0\n",
      "14  6  5   sep  wed  92.9  133.3  699.6   9.2  26.4  21   4.5   0.0     0\n",
      "18  6  4   mar  wed  89.2   27.9   70.8   6.3  15.9  35   4.0   0.0     0\n",
      "0   7  5   mar  fri  86.2   26.2   94.3   5.1   8.2  51   6.7   0.0     0\n",
      "3   8  6   mar  fri  91.7   33.3   77.5   9.0   8.3  97   4.0   0.2     0\n",
      "12  6  5   aug  fri  63.5   70.8  665.3   0.8  17.0  72   6.7   0.0     0\n",
      "26  7  4   sep  fri  92.4  117.9  668.0  12.2  19.0  34   5.8   0.0     0\n",
      "15  6  5   sep  fri  93.3  141.2  713.9  13.9  22.9  44   5.4   0.0     0\n",
      "24  7  4   aug  sat  93.5  139.4  594.2  20.3  23.7  32   5.8   0.0     0\n",
      "23  7  4   aug  sat  90.2  110.9  537.4   6.2  19.5  43   5.8   0.0     0\n",
      "19  6  4   apr  sat  86.3   27.4   97.1   5.1   9.3  44   4.5   0.0     0\n",
      "16  5  5   mar  sat  91.7   35.8   80.8   7.8  15.1  27   5.4   0.0     0\n",
      "11  7  5   sep  sat  92.8   73.2  713.0  22.6  19.3  38   4.0   0.0     0\n",
      "10  7  5   sep  sat  92.5   88.0  698.6   7.1  17.8  51   7.2   0.0     0\n",
      "9   7  5   sep  sat  92.5   88.0  698.6   7.1  22.8  40   4.0   0.0     0\n",
      "2   7  4   oct  sat  90.6   43.7  686.9   6.7  14.6  33   1.3   0.0     0\n",
      "5   8  6   aug  sun  92.3   85.3  488.0  14.7  22.2  29   5.4   0.0     0\n",
      "22  7  4   jun  sun  94.3   96.3  200.0  56.1  21.0  44   4.5   0.0     0\n",
      "25  7  4   aug  sun  91.4  142.4  601.4  10.6  16.3  60   5.4   0.0     0\n",
      "4   8  6   mar  sun  89.3   51.3  102.2   9.6  11.4  99   1.8   0.0     0\n"
     ]
    }
   ],
   "source": [
    "import pandas as pd\n",
    "\n",
    "# Prompt the user for the file path\n",
    "file_path = input(\"Enter the file path: \")\n",
    "\n",
    "# Prompt the user for the column name\n",
    "column_name = input(\"Enter the column name: \")\n",
    "\n",
    "# Prompt the user for the category order\n",
    "category_order = input(\"Enter the category order (comma-separated): \").split(',')\n",
    "\n",
    "# Read the CSV file\n",
    "df = pd.read_csv(file_path)\n",
    "\n",
    "# Convert the specified column to categorical\n",
    "df[column_name] = pd.Categorical(df[column_name], categories=category_order, ordered=True)\n",
    "\n",
    "# Sort the data by the specified column\n",
    "sorted_data = df.sort_values(by=[column_name])\n",
    "\n",
    "# Display the sorted data\n",
    "print(sorted_data)"
   ]
  },
  {
   "cell_type": "markdown",
   "id": "5c251654-b1e8-49f2-9cbf-3a2cb6aefc40",
   "metadata": {},
   "source": [
    "  "
   ]
  },
  {
   "cell_type": "markdown",
   "id": "a4726205-d9a0-4c51-8bb1-04e649692547",
   "metadata": {},
   "source": [
    "Q10. Write a Python program that reads a CSV file containing sales data for different products and visualizes the data using a stacked bar chart to show the sales of each product category over time. The program should prompt the user to enter the file path and display the chart.\n",
    "\n",
    "Answer10:"
   ]
  },
  {
   "cell_type": "code",
   "execution_count": null,
   "id": "04c38d61-bc4a-4105-8ab0-48742a90d9b4",
   "metadata": {},
   "outputs": [],
   "source": [
    "import pandas as pd\n",
    "import matplotlib.pyplot as plt\n",
    "\n",
    "# Prompt the user for the file path\n",
    "file_path = input(\"Enter the file path: \")\n",
    "\n",
    "# Read the CSV file\n",
    "df = pd.read_csv(file_path)\n",
    "\n",
    "# Convert the 'Date' column to datetime type\n",
    "df['Date'] = pd.to_datetime(df['Date'])\n",
    "\n",
    "# Group the data by 'Date' and 'Product Category' and calculate the total sales\n",
    "sales_data = df.groupby(['Date', 'Product Category'])['Sales'].sum().unstack()\n",
    "\n",
    "# Plotting the stacked bar chart\n",
    "sales_data.plot(kind='bar', stacked=True)\n",
    "\n",
    "# Set the labels and title\n",
    "plt.xlabel('Date')\n",
    "plt.ylabel('Sales')\n",
    "plt.title('Sales of Product Categories Over Time')\n",
    "\n",
    "# Display the chart\n",
    "plt.show()"
   ]
  },
  {
   "cell_type": "markdown",
   "id": "8b538e60-244b-4199-b2f8-19aa782ab403",
   "metadata": {},
   "source": [
    "   "
   ]
  },
  {
   "cell_type": "markdown",
   "id": "9027c9c8-3097-44c3-a95b-0d56194fa597",
   "metadata": {},
   "source": [
    "Q11. You are given a CSV file containing student data that includes the student ID and their test score. Write a Python program that reads the CSV file, calculates the mean, median, and mode of the test scores, and displays the results in a table.\n",
    "\n",
    "Answer 11:"
   ]
  },
  {
   "cell_type": "code",
   "execution_count": 28,
   "id": "43f1a988-8dca-4fa0-b4a1-e640c49b09a5",
   "metadata": {},
   "outputs": [
    {
     "name": "stdin",
     "output_type": "stream",
     "text": [
      "Enter the file path of the CSV file containing the student data:  student_data.csv\n"
     ]
    },
    {
     "name": "stdout",
     "output_type": "stream",
     "text": [
      "  Statistic Value\n",
      "0      Mean  83.5\n",
      "1    Median  85.0\n",
      "2      Mode    85\n"
     ]
    }
   ],
   "source": [
    "import pandas as pd\n",
    "\n",
    "# Prompt the user to enter the file path\n",
    "file_path = input(\"Enter the file path of the CSV file containing the student data: \")\n",
    "\n",
    "# Read the CSV file into a DataFrame\n",
    "df = pd.read_csv(file_path)\n",
    "\n",
    "# Calculate the mean, median, and mode of the test scores\n",
    "mean_score = df['Test Score'].mean()\n",
    "median_score = df['Test Score'].median()\n",
    "mode_scores = df['Test Score'].mode().tolist()\n",
    "\n",
    "# Create a table to display the results\n",
    "table = pd.DataFrame({'Statistic': ['Mean', 'Median', 'Mode'],\n",
    "                      'Value': [mean_score, median_score, ', '.join(map(str, mode_scores))]})\n",
    "\n",
    "\n",
    "# Display the table\n",
    "print(table)"
   ]
  },
  {
   "cell_type": "code",
   "execution_count": null,
   "id": "616b6abb-1e60-43eb-8690-1aef4c81c342",
   "metadata": {},
   "outputs": [],
   "source": []
  }
 ],
 "metadata": {
  "kernelspec": {
   "display_name": "Python 3 (ipykernel)",
   "language": "python",
   "name": "python3"
  },
  "language_info": {
   "codemirror_mode": {
    "name": "ipython",
    "version": 3
   },
   "file_extension": ".py",
   "mimetype": "text/x-python",
   "name": "python",
   "nbconvert_exporter": "python",
   "pygments_lexer": "ipython3",
   "version": "3.10.8"
  }
 },
 "nbformat": 4,
 "nbformat_minor": 5
}
