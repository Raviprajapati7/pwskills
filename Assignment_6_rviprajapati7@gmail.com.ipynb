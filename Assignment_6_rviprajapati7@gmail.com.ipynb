{
 "cells": [
  {
   "cell_type": "markdown",
   "id": "02565e2d-c45b-4510-8262-e355f24765ad",
   "metadata": {},
   "source": [
    "Q1. Explain Class and Object with respect to Object-Oriented Programming. Give a suitable example.\n",
    "\n",
    "Answer 1: In object-oriented programming (OOP), a class is a blueprint or template that defines the structure and behavior of objects. It serves as a blueprint for creating instances of objects, which are the actual entities that exist in memory based on the class definition.\n",
    "\n",
    "A class encapsulates data (in the form of attributes or properties) and behaviors (in the form of methods or functions) related to a particular concept or entity. It defines the common characteristics and actions that objects of that class will possess.\n",
    "\n",
    "On the other hand, an object is an instance of a class. It is a tangible representation of a class, created using the class blueprint. Objects have their own unique identity, state, and behavior, which are determined by the class they belong to.\n",
    "\n",
    "To illustrate this concept, let's consider a class called \"Car\" that represents car objects. The Car class would define the properties and behaviors that are common to all cars. Here's an example in Python:"
   ]
  },
  {
   "cell_type": "code",
   "execution_count": 3,
   "id": "684dc357-2271-43a3-b3e0-ba34c9ac7db1",
   "metadata": {},
   "outputs": [
    {
     "name": "stdout",
     "output_type": "stream",
     "text": [
      "Toyota\n",
      "Red\n",
      "The car is now moving at 30 km/h.\n",
      "The car slowed down to 0 km/h.\n"
     ]
    }
   ],
   "source": [
    "class Car:\n",
    "    def __init__(self, brand, model, color):\n",
    "        self.brand = brand\n",
    "        self.model = model\n",
    "        self.color = color\n",
    "        self.speed = 0\n",
    "\n",
    "    def accelerate(self, increment):\n",
    "        self.speed += increment\n",
    "        print(f\"The car is now moving at {self.speed} km/h.\")\n",
    "\n",
    "    def brake(self, decrement):\n",
    "        self.speed -= decrement\n",
    "        if self.speed < 0:\n",
    "            self.speed = 0\n",
    "        print(f\"The car slowed down to {self.speed} km/h.\")\n",
    "\n",
    "# Creating instances of the Car class\n",
    "car1 = Car(\"Toyota\", \"Camry\", \"Silver\")\n",
    "car2 = Car(\"Ford\", \"Mustang\", \"Red\")\n",
    "\n",
    "# Accessing the properties and invoking methods on objects\n",
    "print(car1.brand)  \n",
    "print(car2.color)  \n",
    "\n",
    "car1.accelerate(30) \n",
    "car2.brake(10)  \n"
   ]
  },
  {
   "cell_type": "code",
   "execution_count": null,
   "id": "35f88b2b-fb3b-4ff3-8f47-2e274e1aaaf1",
   "metadata": {},
   "outputs": [],
   "source": []
  },
  {
   "cell_type": "markdown",
   "id": "76aea890-ea01-4e20-a6f0-65f7d3e0c5fe",
   "metadata": {},
   "source": [
    "Q2. Name the four pillars of OOPs.\n",
    "Answer2: The four pillars of object-oriented programming (OOP) are:\n",
    "\n",
    "1 Encapsulation: Encapsulation is the mechanism of bundling data (attributes) and the methods (behaviors) that operate on that data within a single unit called a class. It involves hiding the internal details of an object and exposing only the necessary information and functionality through public interfaces. Encapsulation helps in achieving data abstraction and promotes information hiding.\n",
    "\n",
    "2 Inheritance: Inheritance allows objects to inherit properties and behaviors from a parent class, known as the base or superclass. The derived or child classes can extend and specialize the attributes and methods inherited from the superclass. Inheritance promotes code reusability, modularity, and the creation of hierarchical relationships between classes.\n",
    "\n",
    "3 Polymorphism: Polymorphism refers to the ability of objects to take on multiple forms or behaviors. It allows objects of different classes to be treated as objects of a common superclass. Polymorphism is achieved through method overriding and method overloading. Method overriding allows a subclass to provide a different implementation of a method that is already defined in its superclass. Method overloading involves defining multiple methods with the same name but different parameters within a class.\n",
    "\n",
    "4 Abstraction: Abstraction focuses on representing the essential features and behaviors of an object, while hiding unnecessary details. It allows the creation of abstract classes and interfaces that define a contract for derived classes to follow. Abstraction provides a way to manage complexity by breaking down a system into smaller, more manageable parts, and it helps in achieving modular and extensible code.\n",
    "\n",
    "These four pillars of OOP together provide a solid foundation for designing and implementing object-oriented systems, allowing for code organization, modularity, reusability, and flexibility."
   ]
  },
  {
   "cell_type": "code",
   "execution_count": null,
   "id": "3f1b6cb9-f817-4b86-bd84-0f3a49f70ff0",
   "metadata": {},
   "outputs": [],
   "source": []
  },
  {
   "cell_type": "markdown",
   "id": "cbfd59ed-3703-449a-b6f6-5bae0fdbb276",
   "metadata": {},
   "source": [
    "Q3. Explain why the __init__() function is used. Give a suitable example.\n",
    "\n",
    "Answer 3:The \"__init__()\" function is a special method in Python classes that is automatically called when an object of that class is created. It is commonly used to initialize the attributes or properties of the object with values provided as arguments during object creation.\n",
    "\n",
    "Here are a few reasons why the __init__() function is used:\n",
    "\n",
    "Attribute Initialization: The __init__() function allows us to initialize the object's attributes with initial values. It provides a convenient way to set the initial state of the object at the time of creation.\n",
    "\n",
    "Data Validation: The __init__() function can also be used to validate the input data before initializing the attributes. It allows us to perform checks and ensure that the provided values are valid or within acceptable ranges.\n",
    "\n",
    "Dependency Injection: If the object requires any external dependencies or resources, the __init__() function can be used to inject those dependencies by passing them as arguments during object creation. This helps in decoupling the object's creation from its dependencies and promotes modularity.\n",
    "\n",
    "Custom Initialization Logic: The __init__() function can contain custom logic that needs to be executed during object initialization. This logic may include computations, setting default values, or calling other methods to perform specific setup tasks."
   ]
  },
  {
   "cell_type": "code",
   "execution_count": 4,
   "id": "bf329f24-529f-4933-b850-249ca517b226",
   "metadata": {},
   "outputs": [
    {
     "name": "stdout",
     "output_type": "stream",
     "text": [
      "Alice\n",
      "30\n",
      "Hi, my name is Alice and I am 25 years old.\n",
      "Hi, my name is Bob and I am 30 years old.\n"
     ]
    }
   ],
   "source": [
    "class Person:\n",
    "    def __init__(self, name, age):\n",
    "        self.name = name\n",
    "        self.age = age\n",
    "\n",
    "    def introduce(self):\n",
    "        print(f\"Hi, my name is {self.name} and I am {self.age} years old.\")\n",
    "\n",
    "# Creating instances of the Person class\n",
    "person1 = Person(\"Alice\", 25)\n",
    "person2 = Person(\"Bob\", 30)\n",
    "\n",
    "# Accessing attributes and invoking methods on objects\n",
    "print(person1.name)  # Output: Alice\n",
    "print(person2.age)   # Output: 30\n",
    "\n",
    "person1.introduce()  # Output: Hi, my name is Alice and I am 25 years old.\n",
    "person2.introduce()  # Output: Hi, my name is Bob and I am 30 years old.\n"
   ]
  },
  {
   "cell_type": "code",
   "execution_count": null,
   "id": "10f701a7-053e-49e8-be35-5208c1e10830",
   "metadata": {},
   "outputs": [],
   "source": []
  },
  {
   "cell_type": "markdown",
   "id": "76f504d3-de23-44e1-891c-37d857807fe6",
   "metadata": {},
   "source": [
    "Q4. Why self is used in OOPs?\n",
    "\n",
    "Answer 4:The self keyword is used as a convention to refer to the instance of a class within the class methods. It acts as a reference to the object itself and allows access to its attributes and methods.\n",
    "\n",
    "Here are a few reasons why self is used in OOP:\n",
    "\n",
    "Accessing Object's Attributes: Within a class method, self is used to access the attributes (data members) of the object. By using self.attribute_name, you can retrieve or modify the specific attribute of the object. It helps in differentiating between the instance's attributes and local variables within the method.\n",
    "\n",
    "Invoking Object's Methods: self is used to invoke other methods of the same class on the object. By using self.method_name(), you can call another method within the class and perform certain actions using the object's state or attributes.\n",
    "\n",
    "Differentiating between Local and Instance Variables: When a method has local variables with the same name as instance variables, using self helps in explicitly referring to the instance variables. This distinction ensures that the correct variables are accessed or modified within the class methods.\n",
    "\n",
    "Passing Object as an Argument: In some cases, methods may need to accept an object itself as an argument. By convention, the first parameter of a class method is self, which allows passing the object to the method. This allows the method to operate on the specific instance of the class."
   ]
  },
  {
   "cell_type": "code",
   "execution_count": null,
   "id": "7870e064-8520-48c1-9a30-41ff8383c9df",
   "metadata": {},
   "outputs": [],
   "source": []
  },
  {
   "cell_type": "markdown",
   "id": "3fd24566-a3e8-4300-a840-bae7ad8f3279",
   "metadata": {},
   "source": [
    "Q5. What is inheritance? Give an example for each type of inheritance.\n",
    "\n",
    "Answer 5:Inheritance is a fundamental concept in object-oriented programming (OOP) where a class can inherit properties and behaviors from another class. The class that inherits is called the \"subclass\" or \"derived class,\" and the class being inherited from is called the \"superclass\" or \"base class.\" The main purpose of inheritance is to promote code reuse and to establish a hierarchical relationship between classes.There are different types of inheritance:\n",
    "\n",
    "1 Single inheritance: In single inheritance, a class inherits properties and behaviors from only one superclass. It represents an \"is-a\" relationship, where the subclass is a specialized version of the superclass. For example:"
   ]
  },
  {
   "cell_type": "code",
   "execution_count": 5,
   "id": "54f99c5e-a18c-45a1-81be-c19117417795",
   "metadata": {},
   "outputs": [
    {
     "name": "stdout",
     "output_type": "stream",
     "text": [
      "Buddy is eating.\n",
      "Buddy is barking.\n"
     ]
    }
   ],
   "source": [
    "class Animal:\n",
    "    def __init__(self, name):\n",
    "        self.name = name\n",
    "\n",
    "    def eat(self):\n",
    "        print(f\"{self.name} is eating.\")\n",
    "\n",
    "\n",
    "class Dog(Animal):\n",
    "    def bark(self):\n",
    "        print(f\"{self.name} is barking.\")\n",
    "\n",
    "\n",
    "dog = Dog(\"Buddy\")\n",
    "dog.eat()   \n",
    "dog.bark()  \n"
   ]
  },
  {
   "cell_type": "markdown",
   "id": "2be04f66-977b-460f-b4da-6778a2b0a549",
   "metadata": {},
   "source": [
    "2 Multiple inheritance: Multiple inheritance allows a class to inherit properties and behaviors from multiple superclasses. It allows a class to combine features and characteristics from different classes. For example:"
   ]
  },
  {
   "cell_type": "code",
   "execution_count": 6,
   "id": "9eaaaacb-bf38-44cb-95e6-884646eb25c0",
   "metadata": {},
   "outputs": [
    {
     "name": "stdout",
     "output_type": "stream",
     "text": [
      "Flying.\n",
      "Swimming.\n",
      "Quack!\n"
     ]
    }
   ],
   "source": [
    "class Flyer:\n",
    "    def fly(self):\n",
    "        print(\"Flying.\")\n",
    "\n",
    "\n",
    "class Swimmer:\n",
    "    def swim(self):\n",
    "        print(\"Swimming.\")\n",
    "\n",
    "\n",
    "class Duck(Flyer, Swimmer):\n",
    "    def quack(self):\n",
    "        print(\"Quack!\")\n",
    "\n",
    "\n",
    "duck = Duck()\n",
    "duck.fly()   \n",
    "duck.swim()  \n",
    "duck.quack() \n"
   ]
  },
  {
   "cell_type": "markdown",
   "id": "e2db3a76-1f07-497f-9d7b-4ab43d0d01c7",
   "metadata": {},
   "source": [
    "3 Multilevel inheritance: Multilevel inheritance involves a series of classes where a subclass can inherit from a superclass, and that subclass can become a superclass for another class, creating a hierarchy. For example:\n"
   ]
  },
  {
   "cell_type": "code",
   "execution_count": 7,
   "id": "55ac50d7-d773-4121-8b3b-9a7b5246e656",
   "metadata": {},
   "outputs": [
    {
     "name": "stdout",
     "output_type": "stream",
     "text": [
      "Driving a vehicle.\n",
      "Honking a car.\n",
      "Accelerating a sports car.\n"
     ]
    }
   ],
   "source": [
    "class Vehicle:\n",
    "    def drive(self):\n",
    "        print(\"Driving a vehicle.\")\n",
    "\n",
    "\n",
    "class Car(Vehicle):\n",
    "    def honk(self):\n",
    "        print(\"Honking a car.\")\n",
    "\n",
    "\n",
    "class SportsCar(Car):\n",
    "    def accelerate(self):\n",
    "        print(\"Accelerating a sports car.\")\n",
    "\n",
    "\n",
    "my_car = SportsCar()\n",
    "my_car.drive()      # Inherited from Vehicle class\n",
    "my_car.honk()       # Inherited from Car class\n",
    "my_car.accelerate() # Defined in SportsCar class\n"
   ]
  },
  {
   "cell_type": "markdown",
   "id": "739b8cd7-e240-4fd1-9fa6-26c13b2e23d0",
   "metadata": {},
   "source": [
    "4 Hierarchical inheritance is a type of inheritance in which a single subclass inherits properties and behaviors from a single superclass, but the superclass can have multiple subclasses. This creates a hierarchical relationship where multiple classes derive from a common superclass. Each subclass inherits the common properties and behaviors of the superclass, but they can also have their own unique properties and behaviors."
   ]
  },
  {
   "cell_type": "markdown",
   "id": "a37acf11-0e8e-49b5-8780-1531d2304286",
   "metadata": {},
   "source": [
    "5Hybrid inheritance is a combination of multiple types of inheritance, such as single, multiple, or multilevel inheritance. It allows classes to inherit properties and behaviors from different classes using a combination of inheritance techniques. By utilizing hybrid inheritance, a class hierarchy with complex relationships and functionalities can be created."
   ]
  },
  {
   "cell_type": "code",
   "execution_count": null,
   "id": "27560c45-1d30-4548-b907-1d8424e31774",
   "metadata": {},
   "outputs": [],
   "source": []
  }
 ],
 "metadata": {
  "kernelspec": {
   "display_name": "Python 3 (ipykernel)",
   "language": "python",
   "name": "python3"
  },
  "language_info": {
   "codemirror_mode": {
    "name": "ipython",
    "version": 3
   },
   "file_extension": ".py",
   "mimetype": "text/x-python",
   "name": "python",
   "nbconvert_exporter": "python",
   "pygments_lexer": "ipython3",
   "version": "3.10.8"
  }
 },
 "nbformat": 4,
 "nbformat_minor": 5
}
