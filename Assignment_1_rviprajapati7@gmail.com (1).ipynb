{
 "cells": [
  {
   "cell_type": "code",
   "execution_count": 8,
   "id": "6290f9a5-dc92-4d1a-8ea1-8880b8e40a54",
   "metadata": {
    "tags": []
   },
   "outputs": [],
   "source": [
    "#ANSWER 1: Here is an example of creating one variable containing different types of data:\n",
    "\n",
    "# A string variable\n",
    "string_var = \"Hello\"\n",
    "\n",
    "# A list variable\n",
    "list_var = [1, 2, 3, 4, 5,3.5,True]\n",
    "\n",
    "# A float variable\n",
    "float_var = 3.14\n",
    "\n",
    "# A tuple variable\n",
    "tuple_var = (6, 7, 8, 9, 10,[4,8,7,4,9,3.5])\n"
   ]
  },
  {
   "cell_type": "code",
   "execution_count": 7,
   "id": "2e12992b-9790-4b40-b8a7-518b74719923",
   "metadata": {},
   "outputs": [
    {
     "data": {
      "text/plain": [
       "'Hello'"
      ]
     },
     "execution_count": 7,
     "metadata": {},
     "output_type": "execute_result"
    }
   ],
   "source": [
    "string_var"
   ]
  },
  {
   "cell_type": "code",
   "execution_count": 4,
   "id": "22d822d0-9bae-412f-a78b-24b13b5b8a39",
   "metadata": {},
   "outputs": [
    {
     "data": {
      "text/plain": [
       "[1, 2, 3, 4, 5, 3.5, True]"
      ]
     },
     "execution_count": 4,
     "metadata": {},
     "output_type": "execute_result"
    }
   ],
   "source": [
    "list_var"
   ]
  },
  {
   "cell_type": "code",
   "execution_count": 5,
   "id": "91ce7e70-2d53-4089-b7b3-64ade55c7be3",
   "metadata": {},
   "outputs": [
    {
     "data": {
      "text/plain": [
       "3.14"
      ]
     },
     "execution_count": 5,
     "metadata": {},
     "output_type": "execute_result"
    }
   ],
   "source": [
    "float_var"
   ]
  },
  {
   "cell_type": "code",
   "execution_count": 6,
   "id": "8c1b49d1-ead9-49ea-8403-0fee33fb2e70",
   "metadata": {},
   "outputs": [
    {
     "data": {
      "text/plain": [
       "(6, 7, 8, 9, 10, [4, 8, 7, 4, 9, 3.5])"
      ]
     },
     "execution_count": 6,
     "metadata": {},
     "output_type": "execute_result"
    }
   ],
   "source": [
    "tuple_var"
   ]
  },
  {
   "cell_type": "code",
   "execution_count": null,
   "id": "79b84050-1248-4f7e-bf67-e620043f4a28",
   "metadata": {},
   "outputs": [],
   "source": []
  },
  {
   "cell_type": "code",
   "execution_count": 11,
   "id": "7268d2bb-653e-4016-b5bd-1b17ab2ce90a",
   "metadata": {},
   "outputs": [],
   "source": [
    "# ANSWER 2 : The data types of the given variables are:\n",
    "\n",
    "# (1) var1 is a string variable with an empty string value.\n",
    "var1=''"
   ]
  },
  {
   "cell_type": "code",
   "execution_count": 10,
   "id": "1f8afa41-904d-4a26-b0d4-ea906a4d95de",
   "metadata": {},
   "outputs": [
    {
     "data": {
      "text/plain": [
       "str"
      ]
     },
     "execution_count": 10,
     "metadata": {},
     "output_type": "execute_result"
    }
   ],
   "source": [
    "type(var1)"
   ]
  },
  {
   "cell_type": "code",
   "execution_count": 14,
   "id": "a13f6279-552b-4c4e-b00f-861e460d30af",
   "metadata": {},
   "outputs": [],
   "source": [
    "# (2) var2 is a string variable containing a list representation as a string.\n",
    "var2='[ DS , ML , Python]'"
   ]
  },
  {
   "cell_type": "code",
   "execution_count": 15,
   "id": "364ab0af-fd31-41d9-81f0-32310e75f7a1",
   "metadata": {},
   "outputs": [
    {
     "data": {
      "text/plain": [
       "str"
      ]
     },
     "execution_count": 15,
     "metadata": {},
     "output_type": "execute_result"
    }
   ],
   "source": [
    "type(var2)"
   ]
  },
  {
   "cell_type": "code",
   "execution_count": 19,
   "id": "ac036663-b6b4-4e8b-bd20-493cae659d73",
   "metadata": {},
   "outputs": [],
   "source": [
    "# (3) var3 is a list variable containing strings as elements.\n",
    "var3= ['DS','ML','Python']"
   ]
  },
  {
   "cell_type": "code",
   "execution_count": 20,
   "id": "efbf213b-7f21-4217-a416-666e1935b61a",
   "metadata": {},
   "outputs": [
    {
     "data": {
      "text/plain": [
       "list"
      ]
     },
     "execution_count": 20,
     "metadata": {},
     "output_type": "execute_result"
    }
   ],
   "source": [
    "type(var3)"
   ]
  },
  {
   "cell_type": "code",
   "execution_count": 21,
   "id": "8f47d1d4-4e3a-4581-9705-8d9baad88b5a",
   "metadata": {},
   "outputs": [],
   "source": [
    "# (4) var4 is a float variable with a value of 1.0.\n",
    "var4=1."
   ]
  },
  {
   "cell_type": "code",
   "execution_count": 22,
   "id": "92d9c4fd-565a-4241-8a7e-388fad82153a",
   "metadata": {},
   "outputs": [
    {
     "data": {
      "text/plain": [
       "float"
      ]
     },
     "execution_count": 22,
     "metadata": {},
     "output_type": "execute_result"
    }
   ],
   "source": [
    "type(var4)"
   ]
  },
  {
   "cell_type": "code",
   "execution_count": null,
   "id": "5114fb9b-70d0-43e8-ae75-ef8617d02856",
   "metadata": {},
   "outputs": [],
   "source": []
  },
  {
   "cell_type": "code",
   "execution_count": 25,
   "id": "e5753469-49da-45d7-a294-120cdc96f616",
   "metadata": {},
   "outputs": [],
   "source": [
    "#ANSWER 3 : Here is an explanation of the four operators with examples:\n",
    "# (1) The / operator is the division operator. It performs division of the left operand by the right operand and returns the result as \n",
    "#a floating-point number. For example:"
   ]
  },
  {
   "cell_type": "code",
   "execution_count": 26,
   "id": "555f4137-d0b8-4164-b2d3-b8410a6af0f3",
   "metadata": {},
   "outputs": [
    {
     "name": "stdout",
     "output_type": "stream",
     "text": [
      "16.0\n"
     ]
    }
   ],
   "source": [
    "# Division operator\n",
    "a = 80\n",
    "b = 5\n",
    "result = a / b\n",
    "print(result)"
   ]
  },
  {
   "cell_type": "code",
   "execution_count": 27,
   "id": "b6666318-66c9-49ca-b851-671520cc2ef3",
   "metadata": {},
   "outputs": [],
   "source": [
    "# (2) The % operator is the modulus operator. It performs integer division of the left operand by the right operand\n",
    "# and returns the remainder as the result. For example:"
   ]
  },
  {
   "cell_type": "code",
   "execution_count": 28,
   "id": "f56c1d25-98ca-442e-8624-d57ad6e64928",
   "metadata": {},
   "outputs": [
    {
     "name": "stdout",
     "output_type": "stream",
     "text": [
      "1\n"
     ]
    }
   ],
   "source": [
    "# Modulus operator\n",
    "a = 40\n",
    "b = 3\n",
    "result = a % b\n",
    "print(result)"
   ]
  },
  {
   "cell_type": "code",
   "execution_count": 29,
   "id": "28e75b0b-2c2a-498b-b45b-af789c913a6b",
   "metadata": {},
   "outputs": [],
   "source": [
    "# (3) The // operator is the floor division operator. It performs integer division of the left operand by the right operand\n",
    "# and returns the quotient as an integer, rounded down to the nearest whole number. For example:"
   ]
  },
  {
   "cell_type": "code",
   "execution_count": 30,
   "id": "fd3e7655-fcde-4f05-8fd5-596a8ed98930",
   "metadata": {},
   "outputs": [
    {
     "name": "stdout",
     "output_type": "stream",
     "text": [
      "27\n"
     ]
    }
   ],
   "source": [
    "# Floor division operator\n",
    "a = 83\n",
    "b = 3\n",
    "result = a // b\n",
    "print(result)"
   ]
  },
  {
   "cell_type": "code",
   "execution_count": 31,
   "id": "50ea8856-f1dd-48ed-9722-ed3c4cb2ef53",
   "metadata": {},
   "outputs": [],
   "source": [
    "# (4) The ** operator is the exponentiation operator in Python. It performs exponentiation of the left operand by the right operand \n",
    "# and returns the result. For example:"
   ]
  },
  {
   "cell_type": "code",
   "execution_count": 32,
   "id": "53128bf3-8c98-413a-983f-ec395be4d171",
   "metadata": {},
   "outputs": [
    {
     "name": "stdout",
     "output_type": "stream",
     "text": [
      "65536\n"
     ]
    }
   ],
   "source": [
    "# Exponentiation operator\n",
    "a = 4\n",
    "b = 8\n",
    "result = a ** b\n",
    "print(result) "
   ]
  },
  {
   "cell_type": "code",
   "execution_count": null,
   "id": "e7163856-cf1c-4283-b657-2cf210f4e201",
   "metadata": {},
   "outputs": [],
   "source": []
  },
  {
   "cell_type": "code",
   "execution_count": 33,
   "id": "d7ea609b-05f7-4a8c-92da-6348e11b30ba",
   "metadata": {},
   "outputs": [],
   "source": [
    "#ANSWER 4: Here's an example of creating a list of 10 elements with multiple data types and using a for loop to print each element \n",
    "# and its corresponding data type:\n"
   ]
  },
  {
   "cell_type": "code",
   "execution_count": 35,
   "id": "e55e443e-714d-4bfd-95d4-df25e2b1d343",
   "metadata": {},
   "outputs": [
    {
     "name": "stdout",
     "output_type": "stream",
     "text": [
      "1 is of type <class 'int'>\n",
      "hello is of type <class 'str'>\n",
      "True is of type <class 'bool'>\n",
      "3.14 is of type <class 'float'>\n",
      "[4, 5, 6] is of type <class 'list'>\n",
      "world is of type <class 'str'>\n",
      "False is of type <class 'bool'>\n",
      "7 is of type <class 'int'>\n",
      "8.9 is of type <class 'float'>\n"
     ]
    }
   ],
   "source": [
    "# A list of 10 elements with multiple data types\n",
    "list = [1, 'hello', True, 3.14, [4, 5, 6], 'world', False, 7, 8.9]\n",
    "\n",
    "# Printing each element and its data type using a for loop\n",
    "for elem in list:\n",
    "    print(f\"{elem} is of type {type(elem)}\")"
   ]
  },
  {
   "cell_type": "code",
   "execution_count": null,
   "id": "0fcd9cc2-ef0f-4b5a-b97e-07f5d2490d43",
   "metadata": {},
   "outputs": [],
   "source": [
    "\n"
   ]
  },
  {
   "cell_type": "code",
   "execution_count": 36,
   "id": "bc1d26dc-2d99-4802-91c9-19008817cea6",
   "metadata": {},
   "outputs": [],
   "source": [
    "#ANSWER 5: Here is an example of using a while loop to verify if a number A is divisible by another number B, \n",
    "# and if so,how many times it can be divided:"
   ]
  },
  {
   "cell_type": "code",
   "execution_count": 44,
   "id": "1a92bf64-10fc-40cc-a07d-f4c23e239e2c",
   "metadata": {},
   "outputs": [
    {
     "name": "stdin",
     "output_type": "stream",
     "text": [
      "Enter number A:  83\n",
      "Enter number B:  2\n"
     ]
    },
    {
     "name": "stdout",
     "output_type": "stream",
     "text": [
      "83 is not divisible by 2\n"
     ]
    }
   ],
   "source": [
    "# Taking input of two numbers A and B\n",
    "a = int(input(\"Enter number A: \"))\n",
    "b = int(input(\"Enter number B: \"))\n",
    "\n",
    "# Initializing a variable to keep track of the number of times A is divisible by B\n",
    "count = 0\n",
    "temp=a\n",
    "# Checking if A is divisible by B and counting the number of times it can be divided\n",
    "while a % b == 0:\n",
    "    count=count+1\n",
    "    a =a/ b\n",
    "\n",
    "# Checking if A is purely divisible by B\n",
    "if count > 0:\n",
    "    print(f\"{temp} is divisible by {b} {count} times\")\n",
    "else:\n",
    "    print(f\"{temp} is not divisible by {b}\")\n"
   ]
  },
  {
   "cell_type": "code",
   "execution_count": null,
   "id": "48d18429-aa07-44ed-92d0-2845c86e0c47",
   "metadata": {},
   "outputs": [],
   "source": [
    "\n"
   ]
  },
  {
   "cell_type": "code",
   "execution_count": 48,
   "id": "111f2023-226c-4084-8974-e8fe95cdfb11",
   "metadata": {},
   "outputs": [],
   "source": [
    "#ANSWER 6 :Here is an example of creating a list containing 25 integers, and then using a for loop and if-else condition to print \n",
    "# if each element is divisible by 3 or not:"
   ]
  },
  {
   "cell_type": "code",
   "execution_count": 47,
   "id": "bea6a868-ba33-4cf3-8165-3c4a046d2230",
   "metadata": {},
   "outputs": [
    {
     "name": "stdout",
     "output_type": "stream",
     "text": [
      "2 is not divisible by 3\n",
      "3 is divisible by 3\n",
      "15 is divisible by 3\n",
      "200 is not divisible by 3\n",
      "125 is not divisible by 3\n",
      "30 is divisible by 3\n",
      "35 is not divisible by 3\n",
      "840 is divisible by 3\n",
      "145 is not divisible by 3\n",
      "150 is divisible by 3\n",
      "155 is not divisible by 3\n",
      "600 is divisible by 3\n",
      "333 is divisible by 3\n",
      "222 is divisible by 3\n",
      "111 is divisible by 3\n",
      "6960 is divisible by 3\n",
      "6969 is divisible by 3\n",
      "690 is divisible by 3\n",
      "69 is divisible by 3\n",
      "1080 is divisible by 3\n",
      "1055 is not divisible by 3\n",
      "1110 is divisible by 3\n",
      "1155 is divisible by 3\n",
      "1200 is divisible by 3\n",
      "1125 is divisible by 3\n"
     ]
    }
   ],
   "source": [
    "# Creating a list of 25 integers\n",
    "list = [2, 3, 15, 200, 125, 30, 35, 840, 145, 150, 155, 600, 333, 222, 111, 6960, 6969, 690, 69, 1080, 1055, 1110, 1155, 1200, 1125]\n",
    "\n",
    "# Looping through each element in the list and checking if it is divisible by 3\n",
    "for i in list:\n",
    "    if i % 3 == 0:\n",
    "        print(f\"{i} is divisible by 3\")\n",
    "    else:\n",
    "        print(f\"{i} is not divisible by 3\")"
   ]
  },
  {
   "cell_type": "code",
   "execution_count": null,
   "id": "420a10cb-8451-42df-a39e-5d09123b886d",
   "metadata": {},
   "outputs": [],
   "source": []
  },
  {
   "cell_type": "code",
   "execution_count": 50,
   "id": "e976f5a0-db6f-4b17-9348-27cb242b5994",
   "metadata": {},
   "outputs": [],
   "source": [
    "#ANSWER 7 : data types can be classified as either mutable or immutable. \n",
    "#Immutable data types are those that cannot be changed once they are created,while mutable data types can be changed after creation.\n",
    "#Immutable Data Types:\n",
    "#int, float, bool, str, tuple\n",
    "#For example, consider the following code:"
   ]
  },
  {
   "cell_type": "code",
   "execution_count": 52,
   "id": "1bb7e365-928a-4c44-89fd-090b32bf24da",
   "metadata": {},
   "outputs": [
    {
     "ename": "TypeError",
     "evalue": "'str' object does not support item assignment",
     "output_type": "error",
     "traceback": [
      "\u001b[0;31m---------------------------------------------------------------------------\u001b[0m",
      "\u001b[0;31mTypeError\u001b[0m                                 Traceback (most recent call last)",
      "Cell \u001b[0;32mIn[52], line 2\u001b[0m\n\u001b[1;32m      1\u001b[0m string \u001b[38;5;241m=\u001b[39m\u001b[38;5;124m\"\u001b[39m\u001b[38;5;124mravi\u001b[39m\u001b[38;5;124m\"\u001b[39m\n\u001b[0;32m----> 2\u001b[0m \u001b[43mstring\u001b[49m\u001b[43m[\u001b[49m\u001b[38;5;241;43m2\u001b[39;49m\u001b[43m]\u001b[49m\u001b[38;5;241m=\u001b[39m\u001b[38;5;124m'\u001b[39m\u001b[38;5;124mk\u001b[39m\u001b[38;5;124m'\u001b[39m\n",
      "\u001b[0;31mTypeError\u001b[0m: 'str' object does not support item assignment"
     ]
    }
   ],
   "source": [
    "string =\"ravi\"\n",
    "string[2]='k'"
   ]
  },
  {
   "cell_type": "code",
   "execution_count": 54,
   "id": "d183105a-9670-439c-a288-3387b6d2eab9",
   "metadata": {},
   "outputs": [],
   "source": [
    "#Mutable Data Types:\n",
    "# list, set, dict\n",
    "#For example, consider the following code:"
   ]
  },
  {
   "cell_type": "code",
   "execution_count": 55,
   "id": "ac7bcac8-23f2-43e5-af49-e593bea6e53f",
   "metadata": {},
   "outputs": [
    {
     "data": {
      "text/plain": [
       "[1, 2, 69, 5]"
      ]
     },
     "execution_count": 55,
     "metadata": {},
     "output_type": "execute_result"
    }
   ],
   "source": [
    "list =[1,2,3,5]\n",
    "list[2] =69\n",
    "list"
   ]
  },
  {
   "cell_type": "code",
   "execution_count": null,
   "id": "8702d463-83d1-443d-b1c1-7cde6fc82dc8",
   "metadata": {},
   "outputs": [],
   "source": []
  }
 ],
 "metadata": {
  "kernelspec": {
   "display_name": "Python 3 (ipykernel)",
   "language": "python",
   "name": "python3"
  },
  "language_info": {
   "codemirror_mode": {
    "name": "ipython",
    "version": 3
   },
   "file_extension": ".py",
   "mimetype": "text/x-python",
   "name": "python",
   "nbconvert_exporter": "python",
   "pygments_lexer": "ipython3",
   "version": "3.10.8"
  }
 },
 "nbformat": 4,
 "nbformat_minor": 5
}
