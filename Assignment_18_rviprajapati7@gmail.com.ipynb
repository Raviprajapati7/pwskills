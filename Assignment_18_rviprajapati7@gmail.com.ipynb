{
 "cells": [
  {
   "cell_type": "markdown",
   "id": "caff6da9-ac45-4864-b651-57eb546aa805",
   "metadata": {},
   "source": [
    "Q1. Create a Pandas Series that contains the following data: 4, 8, 15, 16, 23, and 42. Then, print the series.\n",
    "\n",
    "Answer1:"
   ]
  },
  {
   "cell_type": "code",
   "execution_count": 1,
   "id": "c8a94723-9a62-4f24-adb4-fa2af07b9dff",
   "metadata": {},
   "outputs": [
    {
     "name": "stdout",
     "output_type": "stream",
     "text": [
      "0     4\n",
      "1     8\n",
      "2    15\n",
      "3    16\n",
      "4    23\n",
      "5    42\n",
      "dtype: int64\n"
     ]
    }
   ],
   "source": [
    "import pandas as pd\n",
    "\n",
    "data = [4, 8, 15, 16, 23, 42]\n",
    "series = pd.Series(data)\n",
    "print(series)"
   ]
  },
  {
   "cell_type": "code",
   "execution_count": null,
   "id": "57de0e26-33eb-4d6c-8487-8b9071974935",
   "metadata": {},
   "outputs": [],
   "source": []
  },
  {
   "cell_type": "markdown",
   "id": "a670473f-5aab-49a6-9176-dc0cd3b80456",
   "metadata": {},
   "source": [
    "Q2. Create a variable of list type containing 10 elements in it, and apply pandas.Series function on the\n",
    "variable print it.\n",
    "\n",
    "Answer2:"
   ]
  },
  {
   "cell_type": "code",
   "execution_count": 2,
   "id": "362049df-7e9e-4e67-a1a9-544487295732",
   "metadata": {},
   "outputs": [
    {
     "name": "stdout",
     "output_type": "stream",
     "text": [
      "0     1\n",
      "1     2\n",
      "2     3\n",
      "3     4\n",
      "4     5\n",
      "5     6\n",
      "6     7\n",
      "7     8\n",
      "8     9\n",
      "9    10\n",
      "dtype: int64\n"
     ]
    }
   ],
   "source": [
    "import pandas as pd\n",
    "\n",
    "my_list = [1, 2, 3, 4, 5, 6, 7, 8, 9, 10]\n",
    "series = pd.Series(my_list)\n",
    "print(series)\n"
   ]
  },
  {
   "cell_type": "markdown",
   "id": "b63b1b84-ccf2-4354-8bd2-911b6b23d9e2",
   "metadata": {},
   "source": [
    "   "
   ]
  },
  {
   "cell_type": "markdown",
   "id": "b4ac57a0-0678-4fe1-a88a-32696576d54a",
   "metadata": {},
   "source": [
    "Q3. Create a Pandas DataFrame that contains the following data:\n",
    "\n",
    "Answer 3:"
   ]
  },
  {
   "cell_type": "code",
   "execution_count": 3,
   "id": "3e46ff98-0165-4060-8e21-d12c1e93bf97",
   "metadata": {},
   "outputs": [
    {
     "name": "stdout",
     "output_type": "stream",
     "text": [
      "     Name  Age  Gender\n",
      "0   Alice   25  Female\n",
      "1     Bob   30    Male\n",
      "2  Claire   27  Female\n"
     ]
    }
   ],
   "source": [
    "import pandas as pd\n",
    "\n",
    "data = {\n",
    "    'Name': ['Alice', 'Bob', 'Claire'],\n",
    "    'Age': [25, 30, 27],\n",
    "    'Gender': ['Female', 'Male', 'Female']\n",
    "}\n",
    "\n",
    "df = pd.DataFrame(data)\n",
    "print(df)\n"
   ]
  },
  {
   "cell_type": "markdown",
   "id": "a162543d-ee55-4510-a00c-1b3a5c80beec",
   "metadata": {},
   "source": [
    "   "
   ]
  },
  {
   "cell_type": "markdown",
   "id": "ba1a0566-5518-437d-bda3-769297a5f45b",
   "metadata": {},
   "source": [
    "Q4. What is ‘DataFrame’ in pandas and how is it different from pandas.series? Explain with an example.\n",
    "\n",
    "Answer4: In pandas, a DataFrame is a two-dimensional labeled data structure that represents a tabular, spreadsheet-like data object. It consists of rows and columns, similar to a table in a relational database or a spreadsheet. A DataFrame can store heterogeneous data types and provides powerful data manipulation and analysis capabilities.\n",
    "\n",
    "On the other hand, a Series is a one-dimensional labeled data structure in pandas. It can be thought of as a single column of data with row labels. A Series can store homogeneous data types (e.g., integers, strings, floats) and is similar to a NumPy array with additional indexing functionality.\n",
    "\n",
    "Here's an example to illustrate the difference between a DataFrame and a Series:"
   ]
  },
  {
   "cell_type": "code",
   "execution_count": 4,
   "id": "2f2b4040-1442-4d18-b4dd-0e8cfaac453b",
   "metadata": {},
   "outputs": [
    {
     "name": "stdout",
     "output_type": "stream",
     "text": [
      "DataFrame:\n",
      "     Name  Age  Gender\n",
      "0   Alice   25  Female\n",
      "1     Bob   30    Male\n",
      "2  Claire   27  Female\n",
      "\n",
      "Series:\n",
      "0     Alice\n",
      "1       Bob\n",
      "2    Claire\n",
      "Name: Name, dtype: object\n"
     ]
    }
   ],
   "source": [
    "import pandas as pd\n",
    "\n",
    "# Example DataFrame\n",
    "data = {\n",
    "    'Name': ['Alice', 'Bob', 'Claire'],\n",
    "    'Age': [25, 30, 27],\n",
    "    'Gender': ['Female', 'Male', 'Female']\n",
    "}\n",
    "\n",
    "df = pd.DataFrame(data)\n",
    "\n",
    "# Example Series\n",
    "name_series = df['Name']\n",
    "\n",
    "print(\"DataFrame:\")\n",
    "print(df)\n",
    "print(\"\\nSeries:\")\n",
    "print(name_series)"
   ]
  },
  {
   "cell_type": "markdown",
   "id": "d4cadb39-94c3-43e4-b21c-ba604aa18b1b",
   "metadata": {},
   "source": [
    "    "
   ]
  },
  {
   "cell_type": "markdown",
   "id": "d2622264-1894-4de0-b4f8-c2923da383ab",
   "metadata": {},
   "source": [
    "Q5. What are some common functions you can use to manipulate data in a Pandas DataFrame? Can\n",
    "you give an example of when you might use one of these functions?\n",
    "\n",
    "Answer5:Pandas provides a wide range of functions and methods to manipulate data in a DataFrame. Here are some common functions:\n",
    "\n",
    "1 head() and tail(): These functions allow you to view the first or last few rows of the DataFrame, respectively. They are useful for quickly inspecting the data.\n",
    "\n",
    "2 info(): This function provides a summary of the DataFrame, including the column names, data types, and number of non-null values in each column. It helps in understanding the structure of the DataFrame.\n",
    "\n",
    "3 describe(): This function generates descriptive statistics of the numerical columns in the DataFrame, such as count, mean, standard deviation, minimum, and maximum values. It provides a summary of the distribution of the data.\n",
    "\n",
    "4 value_counts(): This function counts the occurrences of unique values in a column and returns the results as a new Series. It is helpful for understanding the frequency of different values in a categorical column.\n",
    "\n",
    "5 sort_values(): This function sorts the DataFrame based on one or more columns. It allows you to order the data in ascending or descending order, which can be useful for identifying patterns or finding the top/bottom values.\n",
    "\n",
    "6 groupby(): This function is used to group the data based on one or more columns. It enables aggregation and calculation of summary statistics on subsets of the data. It is commonly used in combination with functions like mean(), sum(), count(), etc.\n",
    "\n",
    "7 fillna(): This function is used to fill missing values in the DataFrame with a specified value or a calculated value. It helps in handling missing data effectively.\n",
    "\n",
    "Example :"
   ]
  },
  {
   "cell_type": "code",
   "execution_count": 5,
   "id": "a102809c-d2e1-48db-8720-c0087c71161b",
   "metadata": {},
   "outputs": [
    {
     "name": "stdout",
     "output_type": "stream",
     "text": [
      "Age\n",
      "20    92.5\n",
      "21    88.5\n",
      "22    88.0\n",
      "Name: Grade, dtype: float64\n"
     ]
    }
   ],
   "source": [
    "import pandas as pd\n",
    "\n",
    "data = {\n",
    "    'Name': ['Alice', 'Bob', 'Claire', 'David', 'Emma'],\n",
    "    'Age': [21, 20, 21, 22, 20],\n",
    "    'Grade': [85, 90, 92, 88, 95]\n",
    "}\n",
    "\n",
    "df = pd.DataFrame(data)\n",
    "\n",
    "# Grouping by age and calculating average grade\n",
    "average_grade_by_age = df.groupby('Age')['Grade'].mean()\n",
    "\n",
    "print(average_grade_by_age)\n"
   ]
  },
  {
   "cell_type": "markdown",
   "id": "bd01c80c-c80f-4a03-91e3-bf11bca7d3f8",
   "metadata": {},
   "source": [
    "    "
   ]
  },
  {
   "cell_type": "markdown",
   "id": "fd58bada-3469-4109-bb81-f7b6dee3474c",
   "metadata": {},
   "source": [
    "Q6. Which of the following is mutable in nature Series, DataFrame, Panel?\n",
    "\n",
    "Answer 6:Among the options provided (Series, DataFrame, and Panel), the mutable nature applies to DataFrame.\n",
    "\n",
    "DataFrame is mutable, meaning its values and structure can be modified after creation. You can add, remove, or modify columns, change values in specific cells, and perform various manipulations on the data within a DataFrame.\n",
    "\n",
    "On the other hand, both Series and Panel are immutable in nature. Once created, their values and structures cannot be modified. While you can perform operations on Series and Panel to create new Series or Panel objects, the original objects remain unchanged. "
   ]
  },
  {
   "cell_type": "markdown",
   "id": "3726c808-4435-4dec-ae08-485c265a6b3c",
   "metadata": {},
   "source": [
    "   "
   ]
  },
  {
   "cell_type": "markdown",
   "id": "76c2cf53-8a33-45cb-96c5-9e92263a5232",
   "metadata": {},
   "source": [
    "Q7. Create a DataFrame using multiple Series. Explain with an example.\n",
    "\n",
    "Answer 7:"
   ]
  },
  {
   "cell_type": "code",
   "execution_count": 6,
   "id": "b66a9350-8893-4edc-a561-9f840c8b334d",
   "metadata": {},
   "outputs": [
    {
     "name": "stdout",
     "output_type": "stream",
     "text": [
      "     Name  Age  Gender\n",
      "0   Alice   25  Female\n",
      "1     Bob   30    Male\n",
      "2  Claire   27  Female\n"
     ]
    }
   ],
   "source": [
    "import pandas as pd\n",
    "\n",
    "# Create Series objects\n",
    "name_series = pd.Series(['Alice', 'Bob', 'Claire'])\n",
    "age_series = pd.Series([25, 30, 27])\n",
    "gender_series = pd.Series(['Female', 'Male', 'Female'])\n",
    "\n",
    "# Create DataFrame using Series\n",
    "data = {\n",
    "    'Name': name_series,\n",
    "    'Age': age_series,\n",
    "    'Gender': gender_series\n",
    "}\n",
    "\n",
    "df = pd.DataFrame(data)\n",
    "print(df)\n"
   ]
  },
  {
   "cell_type": "code",
   "execution_count": null,
   "id": "0960a581-b9f1-4292-8fc9-f119c6341a72",
   "metadata": {},
   "outputs": [],
   "source": []
  }
 ],
 "metadata": {
  "kernelspec": {
   "display_name": "Python 3 (ipykernel)",
   "language": "python",
   "name": "python3"
  },
  "language_info": {
   "codemirror_mode": {
    "name": "ipython",
    "version": 3
   },
   "file_extension": ".py",
   "mimetype": "text/x-python",
   "name": "python",
   "nbconvert_exporter": "python",
   "pygments_lexer": "ipython3",
   "version": "3.10.8"
  }
 },
 "nbformat": 4,
 "nbformat_minor": 5
}
