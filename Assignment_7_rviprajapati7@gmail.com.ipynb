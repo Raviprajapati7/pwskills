{
 "cells": [
  {
   "cell_type": "markdown",
   "id": "da378050-4965-4cd7-84b3-5e93d2f7da8b",
   "metadata": {},
   "source": [
    "Q1. What is Abstraction in OOps? Explain with an example.\n",
    "\n",
    "Answer1:Abstraction is a fundamental principle in object-oriented programming (OOP) that focuses on representing the essential features and behaviors of an object while hiding the unnecessary details. It allows us to create abstract classes or interfaces that define a common set of methods or properties that subclasses must implement. The purpose of abstraction is to provide a high-level view of an object or system, enabling easier understanding and implementation.\n",
    "\n",
    "In OOP, abstraction can be achieved through abstract classes and interfaces. An abstract class is a class that cannot be instantiated and serves as a blueprint for other classes. It may contain abstract methods (methods without implementation) that must be overridden by the subclasses. An interface is similar to an abstract class but only defines method signatures without any implementation. Classes can implement multiple interfaces but can only inherit from one superclass.\n",
    "\n",
    "Here's an example that demonstrates abstraction using an abstract class:"
   ]
  },
  {
   "cell_type": "code",
   "execution_count": 3,
   "id": "49a86170-1dfe-4761-ab6b-b69978e6c85e",
   "metadata": {},
   "outputs": [
    {
     "name": "stdout",
     "output_type": "stream",
     "text": [
      "Rectangle with length 4 and width 6\n",
      "Area: 24\n",
      "Circle with radius 5\n",
      "Area: 78.5\n"
     ]
    }
   ],
   "source": [
    "from abc import ABC, abstractmethod\n",
    "\n",
    "class Shape(ABC):\n",
    "    @abstractmethod\n",
    "    def calculate_area(self):\n",
    "        pass\n",
    "\n",
    "    @abstractmethod\n",
    "    def display(self):\n",
    "        pass\n",
    "\n",
    "class Rectangle(Shape):\n",
    "    def __init__(self, length, width):\n",
    "        self.length = length\n",
    "        self.width = width\n",
    "\n",
    "    def calculate_area(self):\n",
    "        return self.length * self.width\n",
    "\n",
    "    def display(self):\n",
    "        print(f\"Rectangle with length {self.length} and width {self.width}\")\n",
    "\n",
    "class Circle(Shape):\n",
    "    def __init__(self, radius):\n",
    "        self.radius = radius\n",
    "\n",
    "    def calculate_area(self):\n",
    "        return 3.14 * self.radius ** 2\n",
    "\n",
    "    def display(self):\n",
    "        print(f\"Circle with radius {self.radius}\")\n",
    "\n",
    "rectangle = Rectangle(4, 6)\n",
    "rectangle.display()\n",
    "print(\"Area:\", rectangle.calculate_area())\n",
    "\n",
    "circle = Circle(5)\n",
    "circle.display()\n",
    "print(\"Area:\", circle.calculate_area())"
   ]
  },
  {
   "cell_type": "code",
   "execution_count": null,
   "id": "e0a0e9c4-c7cc-4dc1-9c68-3081abdfda4d",
   "metadata": {},
   "outputs": [],
   "source": []
  },
  {
   "cell_type": "markdown",
   "id": "d4b9aa24-e70b-463d-b9fc-88a89fa7a372",
   "metadata": {},
   "source": [
    "Q2. Differentiate between Abstraction and Encapsulation. Explain with an example.\n",
    "\n",
    "Answer 2:Abstraction and encapsulation are two important concepts in object-oriented programming (OOP), but they serve different purposes.\n",
    "\n",
    "Abstraction focuses on hiding unnecessary details and representing the essential features and behaviors of an object, while encapsulation focuses on bundling data and methods together within a class and restricting access to the internal workings of the object.\n",
    "\n",
    "Here's a comparison between abstraction and encapsulation, along with an example for each:\n",
    "\n",
    "Abstraction:\n",
    "\n",
    "1.Abstraction is concerned with the high-level representation of an object, emphasizing what an object does rather than how it does it.\n",
    "\n",
    "2.It allows us to create abstract classes or interfaces that define a common set of methods or properties that subclasses must implement.\n",
    "\n",
    "3.Abstraction provides a simplified view of an object or system, allowing easier understanding and implementation.\n",
    "\n",
    "4Abstraction promotes code reusability and modularity.\n",
    "\n",
    "Example of abstraction:"
   ]
  },
  {
   "cell_type": "code",
   "execution_count": 4,
   "id": "00346094-db1e-431c-86ae-8597c941e563",
   "metadata": {},
   "outputs": [
    {
     "name": "stdout",
     "output_type": "stream",
     "text": [
      "Woof!\n",
      "Meow!\n"
     ]
    }
   ],
   "source": [
    "from abc import ABC, abstractmethod\n",
    "\n",
    "class Animal(ABC):\n",
    "    @abstractmethod\n",
    "    def sound(self):\n",
    "        pass\n",
    "\n",
    "class Dog(Animal):\n",
    "    def sound(self):\n",
    "        print(\"Woof!\")\n",
    "\n",
    "class Cat(Animal):\n",
    "    def sound(self):\n",
    "        print(\"Meow!\")\n",
    "\n",
    "dog = Dog()\n",
    "dog.sound() \n",
    "\n",
    "cat = Cat()\n",
    "cat.sound()  \n"
   ]
  },
  {
   "cell_type": "markdown",
   "id": "de4e58cd-f50a-40a6-8dcb-01c5caa6cfed",
   "metadata": {},
   "source": [
    "Encapsulation:\n",
    "\n",
    "1 Encapsulation is concerned with bundling data (attributes) and methods (behavior) together within a class and controlling access to them.\n",
    "\n",
    "2 It aims to protect the internal state of an object from external interference and manipulation.\n",
    "\n",
    "3 Encapsulation allows the object to have control over its data and provides data abstraction by exposing limited access to the internal details of the object.\n",
    "\n",
    "4 Encapsulation promotes data integrity and security.\n",
    "\n",
    "Example of encapsulation:"
   ]
  },
  {
   "cell_type": "code",
   "execution_count": 7,
   "id": "6f650f3e-89b6-4f4b-8d1b-42f13beff57e",
   "metadata": {},
   "outputs": [
    {
     "name": "stdout",
     "output_type": "stream",
     "text": [
      "1300\n"
     ]
    }
   ],
   "source": [
    "class BankAccount:\n",
    "    def __init__(self, account_number, balance):\n",
    "        self.account_number = account_number\n",
    "        self.balance = balance\n",
    "\n",
    "    def deposit(self, amount):\n",
    "        self.balance += amount\n",
    "\n",
    "    def withdraw(self, amount):\n",
    "        if self.balance >= amount:\n",
    "            self.balance -= amount\n",
    "        else:\n",
    "            print(\"Insufficient balance.\")\n",
    "\n",
    "    def get_balance(self):\n",
    "        return self.balance\n",
    "\n",
    "account = BankAccount(\"123456789\", 1000)\n",
    "account.deposit(500)\n",
    "account.withdraw(200)\n",
    "print(account.get_balance())  \n",
    "\n"
   ]
  },
  {
   "cell_type": "markdown",
   "id": "860f9a35-1ef8-4593-a295-88812b3c7031",
   "metadata": {},
   "source": [
    "Q3. What is abc module in python? Why is it used?\n",
    "\n",
    "Answer 3:The abc module in Python stands for \"Abstract Base Classes.\" It provides infrastructure for creating abstract base classes (ABCs) in Python. An abstract base class is a class that cannot be instantiated and serves as a blueprint for other classes. It defines a common interface that its subclasses must implement.\n",
    "\n",
    "The abc module is used for defining and working with abstract base classes in Python. It provides the ABC class and the abstractmethod decorator, which are used to define abstract methods and abstract base classes.\n",
    "\n",
    "The main purposes of using the abc module are:\n",
    "\n",
    "1 Defining abstract base classes: The abc module allows you to define abstract base classes using the ABC class as a base. An abstract base class can have abstract methods (methods without implementation) that must be overridden by its subclasses. It provides a way to define a common interface that multiple subclasses should adhere to.\n",
    "\n",
    "2 Enforcing subclass implementation: By defining abstract methods in an abstract base class, the abc module ensures that any subclass that inherits from the abstract base class must implement those abstract methods. If a subclass fails to implement any abstract method, a TypeError will be raised when trying to instantiate the subclass.\n",
    "\n",
    "3 Checking subclass relationships: The abc module provides tools for checking subclass relationships and determining if a class is a subclass of a particular ABC. For example, the issubclass() function and the register() method can be used to check if a class is a subclass of an ABC and to register a virtual subclass with an ABC."
   ]
  },
  {
   "cell_type": "code",
   "execution_count": null,
   "id": "428bf587-162c-45e5-bfd9-5fc89475ffeb",
   "metadata": {},
   "outputs": [],
   "source": []
  },
  {
   "cell_type": "markdown",
   "id": "1f513fac-53a7-4dc3-97b5-307545244e98",
   "metadata": {},
   "source": [
    "Q4. How can we achieve data abstraction?\n",
    "\n",
    "Answer 4: Data abstraction can be achieved through the use of classes and objects. It involves bundling data and the methods that operate on that data into a single unit (class), while hiding the internal details and providing a simplified interface for interacting with the data.\n",
    "\n",
    "Here are the steps to achieve data abstraction:\n",
    "\n",
    "1 Define a class: Start by defining a class that represents the abstraction of a particular concept or entity. The class should encapsulate the data and the methods that operate on that data.\n",
    "\n",
    "2 Determine the public interface: Identify the essential operations that external code should be able to perform on the data. These operations will form the public interface of the class. These methods should be designed to manipulate or access the data while hiding the implementation details.\n",
    "\n",
    "3 Encapsulate data: Encapsulate the data within the class by defining instance variables (attributes) that store the data. These variables should typically be declared as private or protected to restrict direct access from outside the class. Access to the data should be provided through methods (getters and setters) defined in the class.\n",
    "\n",
    "4 Implement methods: Implement the methods within the class that perform various operations on the data. These methods should operate on the internal data and provide the desired functionality while abstracting away the details of how the operations are performed.\n",
    "\n",
    "5 Access data through methods: Instead of directly accessing the data, external code should interact with the data through the methods defined in the class. These methods provide a level of abstraction and encapsulation by ensuring that the data is accessed and modified in a controlled manner."
   ]
  },
  {
   "cell_type": "code",
   "execution_count": null,
   "id": "7d2258ae-9b88-4a77-b99e-2aca1d9326b5",
   "metadata": {},
   "outputs": [],
   "source": []
  },
  {
   "cell_type": "markdown",
   "id": "b31b6050-af68-40d4-807b-46e5c2b16be0",
   "metadata": {},
   "source": [
    "Q5. Can we create an instance of an abstract class? Explain your answer.\n",
    "\n",
    "Answer 5: No, we cannot create an instance of an abstract class in Python. Abstract classes are meant to be used as blueprints for other classes, and they cannot be instantiated directly.\n",
    "\n",
    "Attempting to create an instance of an abstract class will result in a TypeError. The error message will indicate that the abstract class cannot be instantiated because it contains one or more abstract methods that have not been implemented.\n",
    "\n",
    "Here's an example that demonstrates the inability to instantiate an abstract class:"
   ]
  },
  {
   "cell_type": "code",
   "execution_count": 9,
   "id": "b4eb2576-df92-4529-bb86-376cc01b794b",
   "metadata": {},
   "outputs": [
    {
     "ename": "TypeError",
     "evalue": "Can't instantiate abstract class Shape with abstract method calculate_area",
     "output_type": "error",
     "traceback": [
      "\u001b[0;31m---------------------------------------------------------------------------\u001b[0m",
      "\u001b[0;31mTypeError\u001b[0m                                 Traceback (most recent call last)",
      "Cell \u001b[0;32mIn[9], line 13\u001b[0m\n\u001b[1;32m      9\u001b[0m     \u001b[38;5;28;01mdef\u001b[39;00m \u001b[38;5;21mcalculate_area\u001b[39m(\u001b[38;5;28mself\u001b[39m):\n\u001b[1;32m     10\u001b[0m         \u001b[38;5;28;01mreturn\u001b[39;00m \u001b[38;5;241m4\u001b[39m \u001b[38;5;241m*\u001b[39m \u001b[38;5;241m5\u001b[39m\n\u001b[0;32m---> 13\u001b[0m shape \u001b[38;5;241m=\u001b[39m \u001b[43mShape\u001b[49m\u001b[43m(\u001b[49m\u001b[43m)\u001b[49m  \n\u001b[1;32m     16\u001b[0m rectangle \u001b[38;5;241m=\u001b[39m Rectangle()\n\u001b[1;32m     17\u001b[0m area \u001b[38;5;241m=\u001b[39m rectangle\u001b[38;5;241m.\u001b[39mcalculate_area()\n",
      "\u001b[0;31mTypeError\u001b[0m: Can't instantiate abstract class Shape with abstract method calculate_area"
     ]
    }
   ],
   "source": [
    "from abc import ABC, abstractmethod\n",
    "\n",
    "class Shape(ABC):\n",
    "    @abstractmethod\n",
    "    def calculate_area(self):\n",
    "        pass\n",
    "\n",
    "class Rectangle(Shape):\n",
    "    def calculate_area(self):\n",
    "        return 4 * 5\n",
    "\n",
    "\n",
    "shape = Shape()  \n",
    "\n",
    "\n",
    "rectangle = Rectangle()\n",
    "area = rectangle.calculate_area()\n",
    "print(area)  \n"
   ]
  },
  {
   "cell_type": "code",
   "execution_count": null,
   "id": "0e8e5ae1-b0b2-4772-9a75-e16bc5203ae8",
   "metadata": {},
   "outputs": [],
   "source": []
  },
  {
   "cell_type": "code",
   "execution_count": null,
   "id": "86092843-6353-484d-991b-1aa8137ff919",
   "metadata": {},
   "outputs": [],
   "source": []
  }
 ],
 "metadata": {
  "kernelspec": {
   "display_name": "Python 3 (ipykernel)",
   "language": "python",
   "name": "python3"
  },
  "language_info": {
   "codemirror_mode": {
    "name": "ipython",
    "version": 3
   },
   "file_extension": ".py",
   "mimetype": "text/x-python",
   "name": "python",
   "nbconvert_exporter": "python",
   "pygments_lexer": "ipython3",
   "version": "3.10.8"
  }
 },
 "nbformat": 4,
 "nbformat_minor": 5
}
