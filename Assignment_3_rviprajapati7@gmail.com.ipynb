{
 "cells": [
  {
   "cell_type": "markdown",
   "id": "40d3454a-be5c-4c11-81bf-c4ec6cd0c23c",
   "metadata": {},
   "source": [
    "Q1. Which keyword is used to create a function? Create a function to return a list of odd numbers in the\n",
    "range of 1 to 25."
   ]
  },
  {
   "cell_type": "code",
   "execution_count": 2,
   "id": "4c9ea818-9d07-4321-8198-b70440035efe",
   "metadata": {},
   "outputs": [
    {
     "name": "stdout",
     "output_type": "stream",
     "text": [
      "[1, 3, 5, 7, 9, 11, 13, 15, 17, 19, 21, 23, 25]\n"
     ]
    }
   ],
   "source": [
    "\"\"\"Answer 1 :The keyword used to create a function is \"def\". You can use the \"def\" keyword followed by the function name, parentheses for \n",
    "any parameters, and a colon to define a function. Here's an example of a function that returns a list of odd numbers in the range of 1 to 25:\"\"\"\n",
    "\n",
    "def odd_numbers():\n",
    "    odd_numbers = []\n",
    "    for num in range(1, 26):\n",
    "        if num % 2 != 0:\n",
    "            odd_numbers.append(num)\n",
    "    return odd_numbers\n",
    "\n",
    "# Calling the function\n",
    "result = odd_numbers()\n",
    "print(result)\n"
   ]
  },
  {
   "cell_type": "code",
   "execution_count": null,
   "id": "98c204ce-efd3-4649-bd57-d76ca0ccdbb4",
   "metadata": {},
   "outputs": [],
   "source": []
  },
  {
   "cell_type": "markdown",
   "id": "8c519f54-76c3-4261-806a-21bfff43c921",
   "metadata": {},
   "source": [
    "Q2. Why *args and **kwargs is used in some functions? Create a function each for *args and **kwargs\n",
    "to demonstrate their use."
   ]
  },
  {
   "cell_type": "markdown",
   "id": "89bd9ed9-6672-431f-b196-b26999ca3984",
   "metadata": {},
   "source": [
    "Answer 2 : *args and **kwargs are used in function definitions to allow for a variable number of arguments to be passed to the function. Here's a brief explanation of each:\n",
    "1. *args (Arbitrary Arguments): The *args syntax allows a function to accept any number of positional arguments. It allows you to pass a variable number of arguments to a function without having to explicitly define them in the function signature. Inside the function, *args is treated as a tuple that contains all the positional arguments passed.\n",
    "\n",
    "2. **kwargs (Arbitrary Keyword Arguments): The **kwargs syntax allows a function to accept any number of keyword arguments. It allows you to pass a variable number of keyword arguments to a function without having to explicitly define them in the function signature. Inside the function, **kwargs is treated as a dictionary that contains all the keyword arguments passed.\n",
    "\n",
    "Here are examples of functions that demonstrate the use of *args and **kwargs:"
   ]
  },
  {
   "cell_type": "code",
   "execution_count": null,
   "id": "9f402ec5-2c58-45d1-b3a6-99df1ef3c274",
   "metadata": {},
   "outputs": [
    {
     "name": "stdout",
     "output_type": "stream",
     "text": [
      "2 1 3 [1, 2, 3] 5 \n",
      "name: Ravi Prajapati age: 25 city: Lucknow "
     ]
    }
   ],
   "source": [
    "def print_args(*args):\n",
    "    for arg in args:\n",
    "        print(arg ,end=\" \")\n",
    "\n",
    "def print_kwargs(**kwargs):\n",
    "    for key, value in kwargs.items():\n",
    "        print(f\"{key}: {value}\" ,end=\" \")\n",
    "\n",
    "# Using *args\n",
    "print_args(2, 1, 3, [1 ,2,3], 5)\n",
    "print(\"\\r\")\n",
    "# Using **kwargs\n",
    "print_kwargs(name=\"Ravi Prajapati\", age=25, city=\"Lucknow\")"
   ]
  },
  {
   "cell_type": "code",
   "execution_count": null,
   "id": "02c43258-32de-4639-8093-d2bc59bb0101",
   "metadata": {},
   "outputs": [],
   "source": []
  },
  {
   "cell_type": "markdown",
   "id": "72ff573b-87f5-4289-8535-ca02754f7faf",
   "metadata": {},
   "source": [
    "Q3.What is an iterator in python? Name the method used to initialise the iterator object and the method\n",
    "used for iteration. Use these methods to print the first five elements of the given list [2, 4, 6, 8, 10, 12, 14,\n",
    "16, 18, 20]."
   ]
  },
  {
   "cell_type": "markdown",
   "id": "fa40d5a1-06c7-4d79-b583-95d4827f9601",
   "metadata": {},
   "source": [
    "Answer 3 : An iterator is an object that represents a stream of data. It provides a way to access the elements of a container (e.g., a list) one by one without the need to store the entire container in memory. Iterators are used in for loops and can be created for any iterable object.\n",
    "To initialize an iterator object in Python, we use the iter() function. This function takes an iterable as an argument and returns an iterator object.\n",
    "\n",
    "To iterate over the elements of an iterator, we use the next() function. This function retrieves the next element from the iterator. When there are no more elements to retrieve, it raises a StopIteration exception.\n",
    "\n",
    "Here's an example that demonstrates the use of iter() and next() to print the first five elements of the given list [2, 4, 6, 8, 10, 12, 14, 16, 18, 20]:"
   ]
  },
  {
   "cell_type": "code",
   "execution_count": 13,
   "id": "ddfe9c7a-2262-4207-8d74-243ee0d3e798",
   "metadata": {},
   "outputs": [
    {
     "name": "stdout",
     "output_type": "stream",
     "text": [
      "2\n",
      "4\n",
      "6\n",
      "8\n",
      "10\n"
     ]
    }
   ],
   "source": [
    "list = [2, 4, 6, 8, 10, 12, 14, 16, 18, 20]\n",
    "\n",
    "# Initialize the iterator object\n",
    "iterator = iter(list)\n",
    "\n",
    "# Iterate and print the first five elements\n",
    "c=0\n",
    "while(c!=5):\n",
    "    d = next(iterator)\n",
    "    c =c+1\n",
    "    print(d)\n"
   ]
  },
  {
   "cell_type": "code",
   "execution_count": null,
   "id": "537973d7-a28e-404b-beaf-8135398ed044",
   "metadata": {},
   "outputs": [],
   "source": []
  },
  {
   "cell_type": "markdown",
   "id": "9f9d244d-a9e7-4db6-991b-b945a6d635cd",
   "metadata": {},
   "source": [
    "Q4.What is a generator function in python? Why yield keyword is used? Give an example of a generator\n",
    "function."
   ]
  },
  {
   "cell_type": "markdown",
   "id": "6c99e23e-674a-490a-9f35-f57160dd95d3",
   "metadata": {},
   "source": [
    "Answer 4 : A generator function is a special kind of function that generates a sequence of values on-the-fly, rather than returning a single value like a regular function. It uses the yield keyword instead of return to pause the function's execution and yield a value to the caller. This allows the generator function to generate values one at a time, saving memory and improving performance.\n",
    "The yield keyword is used in a generator function to define points at which the function should pause and yield a value. When the function encounters a yield statement, it temporarily suspends its execution, remembers its state, and returns the yielded value to the caller. The next time the generator is called, it resumes execution from where it left off and continues until it encounters the next yield statement or reaches the end of the function.\n",
    "Here's an example of a generator function that generates a sequence of Fibonacci numbers:"
   ]
  },
  {
   "cell_type": "code",
   "execution_count": 18,
   "id": "ac68596e-f538-49e5-9eb5-40a3adef50a0",
   "metadata": {},
   "outputs": [
    {
     "name": "stdout",
     "output_type": "stream",
     "text": [
      "0  1  1  2  3  5  8  13  21  34  55  89  144  233  377  "
     ]
    }
   ],
   "source": [
    "#Answer 4:\n",
    "def fibonacci():\n",
    "    a, b = 0, 1\n",
    "    while True:\n",
    "        yield a\n",
    "        a, b = b, a + b\n",
    "\n",
    "# Using the generator function\n",
    "fib_gen = fibonacci()\n",
    "\n",
    "# Generating and printing the first 10 Fibonacci numbers\n",
    "for _ in range(15):\n",
    "    num = next(fib_gen)\n",
    "    print(num,end=\"  \")"
   ]
  },
  {
   "cell_type": "markdown",
   "id": "72ca788f-0cea-45d0-8e7b-6d2692a685b7",
   "metadata": {},
   "source": [
    "In this example, the fibonacci function is a generator function. It uses a while loop to generate an infinite sequence of Fibonacci numbers. The yield a statement yields the current Fibonacci number a to the caller each time it is called.\n",
    "We create a generator object fib_gen by calling the fibonacci() generator function. Then, using a for loop with range(15), we call next(fib_gen) to retrieve the next Fibonacci number from the generator and print it.\n",
    "Since the Fibonacci sequence is infinite, the generator function will continue generating Fibonacci numbers until it is manually stopped. However, in this example, we limit it to printing the first 15 Fibonacci numbers\n"
   ]
  },
  {
   "cell_type": "code",
   "execution_count": null,
   "id": "d23b4720-f4ad-4bd8-95a7-2c3bedf5dc13",
   "metadata": {},
   "outputs": [],
   "source": []
  },
  {
   "cell_type": "markdown",
   "id": "6a5965e5-a5c4-449a-8fdc-410dfd12c575",
   "metadata": {},
   "source": [
    "Q5. Create a generator function for prime numbers less than 1000. Use the next() method to print the\n",
    "first 20 prime numbers."
   ]
  },
  {
   "cell_type": "code",
   "execution_count": 24,
   "id": "f15b0ded-5877-4795-aeca-25049233f035",
   "metadata": {},
   "outputs": [
    {
     "name": "stdout",
     "output_type": "stream",
     "text": [
      "2  3  5  7  11  13  17  19  23  29  31  37  41  43  47  53  59  61  67  71  "
     ]
    }
   ],
   "source": [
    "#Anser 5:\n",
    "def generate_primes():\n",
    "    primes = []\n",
    "    num = 2\n",
    "    while True:\n",
    "        if all(num % prime != 0 for prime in primes):\n",
    "            primes.append(num)\n",
    "            yield num\n",
    "        num += 1\n",
    "# Using the generator function\n",
    "prime_gen = generate_primes()\n",
    "\n",
    "# Printing the first 20 prime numbers\n",
    "for _ in range(20):\n",
    "    prime = next(prime_gen)\n",
    "    print(prime , end=\"  \")"
   ]
  },
  {
   "cell_type": "code",
   "execution_count": null,
   "id": "c9785f01-c26e-4427-967f-5a819cdcc548",
   "metadata": {},
   "outputs": [],
   "source": []
  },
  {
   "cell_type": "markdown",
   "id": "b1e64df4-6bec-4b3c-a7a5-afd4805b2494",
   "metadata": {},
   "source": [
    "Q6. Write a python program to print the first 10 Fibonacci numbers using a while loop."
   ]
  },
  {
   "cell_type": "code",
   "execution_count": 28,
   "id": "c66c63c4-14a0-4e61-9972-9e70f2f7b662",
   "metadata": {},
   "outputs": [
    {
     "name": "stdout",
     "output_type": "stream",
     "text": [
      "0  1  1  2  3  5  8  13  21  34  "
     ]
    }
   ],
   "source": [
    "#Answer 6:\n",
    "# Initialize the first two Fibonacci numbers\n",
    "a, b = 0, 1\n",
    "# Counter for the number of Fibonacci numbers printed\n",
    "count = 0\n",
    "# Print the first 10 Fibonacci numbers\n",
    "while count < 10:\n",
    "    print(a, end =\"  \")\n",
    "    a, b = b, a + b\n",
    "    count += 1\n"
   ]
  },
  {
   "cell_type": "code",
   "execution_count": null,
   "id": "a54d78df-d6c1-4205-81f6-e00aea59e2fc",
   "metadata": {},
   "outputs": [],
   "source": []
  },
  {
   "cell_type": "markdown",
   "id": "1e1ad709-869c-4ed0-9beb-53ce82ae082c",
   "metadata": {},
   "source": [
    "Q7. Write a List Comprehension to iterate through the given string: ‘pwskills’.\n",
    "Expected output: ['p', 'w', 's', 'k', 'i', 'l', 'l', 's']"
   ]
  },
  {
   "cell_type": "code",
   "execution_count": 29,
   "id": "269eaf13-3f75-46c5-ba3e-60f49884e431",
   "metadata": {},
   "outputs": [
    {
     "name": "stdout",
     "output_type": "stream",
     "text": [
      "['p', 'w', 's', 'k', 'i', 'l', 'l', 's']\n"
     ]
    }
   ],
   "source": [
    "#Answer 7:\n",
    "string = 'pwskills'\n",
    "result = [char for char in string]\n",
    "print(result)\n"
   ]
  },
  {
   "cell_type": "code",
   "execution_count": null,
   "id": "e6ac01a7-6aa9-4dc4-a66e-0181e67b7a1d",
   "metadata": {},
   "outputs": [],
   "source": []
  },
  {
   "cell_type": "markdown",
   "id": "5c4deb32-a15a-41e9-ad60-353dddb48f8d",
   "metadata": {},
   "source": [
    "Q8. Write a python program to check whether a given number is Palindrome or not using a while loop."
   ]
  },
  {
   "cell_type": "code",
   "execution_count": 31,
   "id": "c126bb59-2cfa-4bff-a5d2-a4fba60beac0",
   "metadata": {},
   "outputs": [
    {
     "name": "stdin",
     "output_type": "stream",
     "text": [
      "Enter a number:  155551\n"
     ]
    },
    {
     "name": "stdout",
     "output_type": "stream",
     "text": [
      "155551 is a palindrome.\n"
     ]
    }
   ],
   "source": [
    "#Answer 8:  Function to check if a number is palindrome\n",
    "def is_palindrome(number):\n",
    "    original_number = number\n",
    "    reversed_number = 0\n",
    "    while number > 0:\n",
    "        # Extract the last digit\n",
    "        digit = number % 10\n",
    "        # Build the reversed number\n",
    "        reversed_number = (reversed_number * 10) + digit\n",
    "        # Reduce the number by removing the last digit\n",
    "        number = number // 10\n",
    "    # Check if the original number and reversed number are equal\n",
    "    if original_number == reversed_number:\n",
    "        return True\n",
    "    else:\n",
    "        return False\n",
    "\n",
    "number = int(input(\"Enter a number: \"))\n",
    "if is_palindrome(number):\n",
    "    print(f\"{number} is a palindrome.\")\n",
    "else:\n",
    "    print(f\"{number} is not a palindrome.\")\n"
   ]
  },
  {
   "cell_type": "code",
   "execution_count": null,
   "id": "36257be9-da14-48c9-872c-b1b56718ecb5",
   "metadata": {},
   "outputs": [],
   "source": []
  },
  {
   "cell_type": "markdown",
   "id": "9e593675-d18e-412e-a00b-fc43f044e754",
   "metadata": {},
   "source": [
    "Q9. Write a code to print odd numbers from 1 to 100 using list comprehension."
   ]
  },
  {
   "cell_type": "code",
   "execution_count": 32,
   "id": "1a4a3cb7-a918-4928-830a-5b73e38dd10e",
   "metadata": {},
   "outputs": [
    {
     "name": "stdout",
     "output_type": "stream",
     "text": [
      "[1, 3, 5, 7, 9, 11, 13, 15, 17, 19, 21, 23, 25, 27, 29, 31, 33, 35, 37, 39, 41, 43, 45, 47, 49, 51, 53, 55, 57, 59, 61, 63, 65, 67, 69, 71, 73, 75, 77, 79, 81, 83, 85, 87, 89, 91, 93, 95, 97, 99]\n"
     ]
    }
   ],
   "source": [
    "#Answer 9:\n",
    "odd_numbers = [num for num in range(1, 101) if num % 2 != 0]\n",
    "print(odd_numbers)"
   ]
  },
  {
   "cell_type": "code",
   "execution_count": null,
   "id": "5b4a18ac-cb02-4eef-b5f9-0bca8fa0bfa1",
   "metadata": {},
   "outputs": [],
   "source": []
  }
 ],
 "metadata": {
  "kernelspec": {
   "display_name": "Python 3 (ipykernel)",
   "language": "python",
   "name": "python3"
  },
  "language_info": {
   "codemirror_mode": {
    "name": "ipython",
    "version": 3
   },
   "file_extension": ".py",
   "mimetype": "text/x-python",
   "name": "python",
   "nbconvert_exporter": "python",
   "pygments_lexer": "ipython3",
   "version": "3.10.8"
  }
 },
 "nbformat": 4,
 "nbformat_minor": 5
}
