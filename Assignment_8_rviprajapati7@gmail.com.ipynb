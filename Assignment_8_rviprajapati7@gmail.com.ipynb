{
 "cells": [
  {
   "cell_type": "markdown",
   "id": "7b312648-7346-45d4-8b59-731f02ec5745",
   "metadata": {},
   "source": [
    "Q1. What is an Exception in python? Write the difference between Exceptions and Syntax errors.\n",
    "Answer 1:An exception in Python is an event that occurs during the execution of a program, which disrupts the normal flow of the program's instructions. When an exceptional situation arises, Python raises an exception, which can then be caught and handled using exception handling mechanisms.\n",
    "\n",
    "Difference between Exceptions and Syntax Errors:\n",
    "\n",
    "1. Cause: Syntax errors occur when the Python interpreter detects a violation of the language syntax rules. They are typically caused by misspelled keywords, missing colons, parentheses mismatch, or incorrect indentation. Syntax errors prevent the code from being compiled or interpreted.\n",
    "\n",
    "   On the other hand, exceptions occur during the execution of a program when an error or unexpected condition arises, such as division by zero, accessing an out-of-range index, or attempting to open a non-existent file. Exceptions can be caused by a variety of factors, including incorrect input, external dependencies, or logical errors in the code.\n",
    "\n",
    "2. Time of occurrence: Syntax errors are detected by the Python interpreter during the parsing and compilation phase, before the program is executed. This means that the program will not run until the syntax errors are fixed.\n",
    "\n",
    "   Exceptions, on the other hand, occur during the runtime of the program. They can arise from conditions that were not anticipated or handled explicitly in the code.\n",
    "\n",
    "3. Handling: Syntax errors need to be fixed by modifying the code to adhere to the correct syntax rules. The Python interpreter provides specific error messages that help identify the source of the syntax error, allowing developers to correct it.\n",
    "\n",
    "   Exceptions, however, can be handled using exception handling mechanisms such as try-except blocks. By wrapping potentially error-prone code in a try block and providing one or more except blocks, developers can catch and handle exceptions gracefully, allowing the program to continue execution or perform alternative actions.\n",
    "\n",
    "In summary, syntax errors are related to violations of the language syntax rules and occur during the parsing and compilation phase, while exceptions occur during program execution when unexpected or error conditions arise and can be caught and handled using exception handling mechanisms."
   ]
  },
  {
   "cell_type": "code",
   "execution_count": null,
   "id": "dc5ab411-064c-4d16-8df7-3966ef2a9d4f",
   "metadata": {},
   "outputs": [],
   "source": []
  },
  {
   "cell_type": "markdown",
   "id": "b6b653ff-733f-485e-abb6-2f9822c3e606",
   "metadata": {},
   "source": [
    "Q2. What happens when an exception is not handled? Explain with an example.\n",
    "Answer 2:When an exception is not handled, it results in the termination of the program and an error message is displayed to the user. This is known as an \"unhandled exception\" or an \"uncaught exception.\" The error message typically provides information about the type of exception that occurred, along with a traceback that shows the sequence of function calls and line numbers where the exception was raised.\n",
    "\n",
    "Here's an example to illustrate what happens when an exception is not handled:"
   ]
  },
  {
   "cell_type": "code",
   "execution_count": 1,
   "id": "561f42ca-60c5-4536-8852-ad2b23aff32b",
   "metadata": {},
   "outputs": [
    {
     "ename": "ZeroDivisionError",
     "evalue": "division by zero",
     "output_type": "error",
     "traceback": [
      "\u001b[0;31m---------------------------------------------------------------------------\u001b[0m",
      "\u001b[0;31mZeroDivisionError\u001b[0m                         Traceback (most recent call last)",
      "Cell \u001b[0;32mIn[1], line 6\u001b[0m\n\u001b[1;32m      3\u001b[0m     \u001b[38;5;28;01mreturn\u001b[39;00m result\n\u001b[1;32m      5\u001b[0m \u001b[38;5;66;03m# Calling the function with invalid arguments\u001b[39;00m\n\u001b[0;32m----> 6\u001b[0m result \u001b[38;5;241m=\u001b[39m \u001b[43mdivide_numbers\u001b[49m\u001b[43m(\u001b[49m\u001b[38;5;241;43m10\u001b[39;49m\u001b[43m,\u001b[49m\u001b[43m \u001b[49m\u001b[38;5;241;43m0\u001b[39;49m\u001b[43m)\u001b[49m\n\u001b[1;32m      7\u001b[0m \u001b[38;5;28mprint\u001b[39m(\u001b[38;5;124m\"\u001b[39m\u001b[38;5;124mResult:\u001b[39m\u001b[38;5;124m\"\u001b[39m, result)\n",
      "Cell \u001b[0;32mIn[1], line 2\u001b[0m, in \u001b[0;36mdivide_numbers\u001b[0;34m(a, b)\u001b[0m\n\u001b[1;32m      1\u001b[0m \u001b[38;5;28;01mdef\u001b[39;00m \u001b[38;5;21mdivide_numbers\u001b[39m(a, b):\n\u001b[0;32m----> 2\u001b[0m     result \u001b[38;5;241m=\u001b[39m \u001b[43ma\u001b[49m\u001b[43m \u001b[49m\u001b[38;5;241;43m/\u001b[39;49m\u001b[43m \u001b[49m\u001b[43mb\u001b[49m\n\u001b[1;32m      3\u001b[0m     \u001b[38;5;28;01mreturn\u001b[39;00m result\n",
      "\u001b[0;31mZeroDivisionError\u001b[0m: division by zero"
     ]
    }
   ],
   "source": [
    "def divide_numbers(a, b):\n",
    "    result = a / b\n",
    "    return result\n",
    "\n",
    "# Calling the function with invalid arguments\n",
    "result = divide_numbers(10, 0)\n",
    "print(\"Result:\", result)\n"
   ]
  },
  {
   "cell_type": "code",
   "execution_count": null,
   "id": "c6f0a86f-76af-4677-9981-d27c0515f66b",
   "metadata": {},
   "outputs": [],
   "source": []
  },
  {
   "cell_type": "markdown",
   "id": "d59ee6a5-eeae-4e2e-ad52-7dd28cace7e7",
   "metadata": {},
   "source": [
    "Q3. Which Python statements are used to catch and handle exceptions? Explain with an example.\n",
    "\n",
    "Answer 3:The try and except statements are used to catch and handle exceptions. The try block is used to enclose the code that may raise an exception, and the except block is used to define the actions to be taken when a specific exception is encountered. Here's an example to illustrate how to catch and handle exceptions:"
   ]
  },
  {
   "cell_type": "code",
   "execution_count": 2,
   "id": "34e5c71a-b302-4b80-b7a7-694bd6586076",
   "metadata": {},
   "outputs": [
    {
     "name": "stdout",
     "output_type": "stream",
     "text": [
      "Result: 5.0\n",
      "Error: Division by zero is not allowed.\n"
     ]
    }
   ],
   "source": [
    "def divide_numbers(a, b):\n",
    "    try:\n",
    "        result = a / b\n",
    "        print(\"Result:\", result)\n",
    "    except ZeroDivisionError:\n",
    "        print(\"Error: Division by zero is not allowed.\")\n",
    "\n",
    "# Calling the function with different arguments\n",
    "divide_numbers(10, 2)  # Normal division\n",
    "divide_numbers(10, 0)  # Division by zero\n"
   ]
  },
  {
   "cell_type": "code",
   "execution_count": null,
   "id": "4ac80876-02e1-4258-8b64-0956abdec969",
   "metadata": {},
   "outputs": [],
   "source": []
  },
  {
   "cell_type": "markdown",
   "id": "6fc4912a-70c8-45e8-b33f-31f42e014b35",
   "metadata": {},
   "source": [
    "Q4. Explain with an example:\n",
    "\n",
    "a. try and else\n",
    "\n",
    "b. finally\n",
    "\n",
    "c. raise\n",
    "\n",
    "Answer 4:\n",
    "\n",
    "a . try and else:\n",
    "The try statement  allows you to enclose a block of code that might raise an exception. The else block is optional and is executed only if no exceptions occur in the preceding try block. Here's an example to illustrate the usage of try and else:"
   ]
  },
  {
   "cell_type": "code",
   "execution_count": 4,
   "id": "2bf41a22-727f-4360-82e8-a4c444fc3493",
   "metadata": {},
   "outputs": [
    {
     "name": "stdout",
     "output_type": "stream",
     "text": [
      "Result: 52.0\n",
      "Error: Division by zero is not allowed.\n"
     ]
    }
   ],
   "source": [
    "def divide_numbers(a, b):\n",
    "    try:\n",
    "        result = a / b\n",
    "    except ZeroDivisionError:\n",
    "        print(\"Error: Division by zero is not allowed.\")\n",
    "    else:\n",
    "        print(\"Result:\", result)\n",
    "\n",
    "# Calling the function with different arguments\n",
    "divide_numbers(104, 2)  # Normal division\n",
    "divide_numbers(10, 0)  # Division by zero"
   ]
  },
  {
   "cell_type": "markdown",
   "id": "0a4b432b-4383-46cc-a33f-41e4b04409b0",
   "metadata": {},
   "source": [
    "b. finally:\n",
    "The finally statement is used to define a block of code that will be executed regardless of whether an exception occurred or not. It is often used for cleanup operations or releasing resources. Here's an example to illustrate the usage of try, except, and finally"
   ]
  },
  {
   "cell_type": "code",
   "execution_count": 5,
   "id": "0e076db3-c402-48a0-b459-e3cf0be1ff7b",
   "metadata": {},
   "outputs": [
    {
     "name": "stdout",
     "output_type": "stream",
     "text": [
      "Error: File not found.\n",
      "Error: File not found.\n"
     ]
    }
   ],
   "source": [
    "def read_file(file_path):\n",
    "    try:\n",
    "        file = open(file_path, 'r')\n",
    "        contents = file.read()\n",
    "        print(\"File contents:\", contents)\n",
    "    except FileNotFoundError:\n",
    "        print(\"Error: File not found.\")\n",
    "    finally:\n",
    "        if 'file' in locals():\n",
    "            file.close()\n",
    "\n",
    "# Calling the function with different file paths\n",
    "read_file(\"sample.txt\")  # File exists\n",
    "read_file(\"nonexistent.txt\")  # File does not exist\n"
   ]
  },
  {
   "cell_type": "markdown",
   "id": "479baefe-d80c-432b-a9f7-001dad2149c4",
   "metadata": {},
   "source": [
    "c. raise:\n",
    "The raise statement is used to explicitly raise an exception. It allows you to signal that an exceptional condition has occurred in your code. You can raise built-in exceptions or create custom exceptions by defining a new class."
   ]
  },
  {
   "cell_type": "code",
   "execution_count": null,
   "id": "00c4cff3-6331-4987-a787-1331e439edb0",
   "metadata": {},
   "outputs": [],
   "source": []
  },
  {
   "cell_type": "markdown",
   "id": "7d26daf2-1b14-4b21-a83a-17faebe3848c",
   "metadata": {},
   "source": [
    "Q5. What are Custom Exceptions in python? Why do we need Custom Exceptions? Explain with an example.\n",
    "Answer 5:Custom exceptions are user-defined exceptions that are created by subclassing the built-in Exception class or its subclasses. By creating custom exceptions, you can define your own exception types to represent specific exceptional conditions in your code. Custom exceptions allow you to provide more specific and meaningful error messages, encapsulate additional data or behavior, and distinguish between different types of exceptional situations.\n",
    "\n",
    "Here's an example to illustrate the need for custom exceptions:"
   ]
  },
  {
   "cell_type": "code",
   "execution_count": 6,
   "id": "1c087be9-7798-45c7-885a-e6849d70ca95",
   "metadata": {},
   "outputs": [
    {
     "name": "stdout",
     "output_type": "stream",
     "text": [
      "Error: Insufficient balance. Account balance: 1000, Withdrawal amount: 1500\n",
      "Withdrawal successful.\n",
      "Updated balance: 500\n"
     ]
    }
   ],
   "source": [
    "class InsufficientBalanceError(Exception):\n",
    "    def __init__(self, account_balance, withdrawal_amount):\n",
    "        self.account_balance = account_balance\n",
    "        self.withdrawal_amount = withdrawal_amount\n",
    "        super().__init__(f\"Insufficient balance. Account balance: {account_balance}, Withdrawal amount: {withdrawal_amount}\")\n",
    "\n",
    "\n",
    "def withdraw_money(account_balance, withdrawal_amount):\n",
    "    try:\n",
    "        if withdrawal_amount > account_balance:\n",
    "            raise InsufficientBalanceError(account_balance, withdrawal_amount)\n",
    "        else:\n",
    "            account_balance -= withdrawal_amount\n",
    "            print(\"Withdrawal successful.\")\n",
    "            print(\"Updated balance:\", account_balance)\n",
    "    except InsufficientBalanceError as e:\n",
    "        print(\"Error:\", str(e))\n",
    "\n",
    "\n",
    "# Example usage\n",
    "withdraw_money(1000, 1500)  # Insufficient balance\n",
    "withdraw_money(1000, 500)  # Successful withdrawal\n"
   ]
  },
  {
   "cell_type": "code",
   "execution_count": null,
   "id": "636ce30a-1b96-4a26-89ab-06f20c117329",
   "metadata": {},
   "outputs": [],
   "source": []
  },
  {
   "cell_type": "markdown",
   "id": "b37259ad-311a-40d4-8f67-1a3d0c6f183d",
   "metadata": {},
   "source": [
    "Q6. Create a custom exception class. Use this class to handle an exception.\n",
    "\n",
    "Answer 6:Here's an example that demonstrates creating a custom exception class and using it to handle an exception:"
   ]
  },
  {
   "cell_type": "code",
   "execution_count": 7,
   "id": "eb90d719-43b6-4cf4-8d75-cce7265acb84",
   "metadata": {},
   "outputs": [
    {
     "name": "stdout",
     "output_type": "stream",
     "text": [
      "Input is valid.\n",
      "Error: Invalid input: -5\n"
     ]
    }
   ],
   "source": [
    "class InvalidInputError(Exception):\n",
    "    def __init__(self, input_value):\n",
    "        self.input_value = input_value\n",
    "        super().__init__(f\"Invalid input: {input_value}\")\n",
    "\n",
    "\n",
    "def process_input(input_value):\n",
    "    try:\n",
    "        if input_value < 0:\n",
    "            raise InvalidInputError(input_value)\n",
    "        else:\n",
    "            print(\"Input is valid.\")\n",
    "    except InvalidInputError as e:\n",
    "        print(\"Error:\", str(e))\n",
    "\n",
    "\n",
    "# Example usage\n",
    "process_input(10)  # Valid input\n",
    "process_input(-5)  # Invalid input\n"
   ]
  },
  {
   "cell_type": "code",
   "execution_count": null,
   "id": "6445c929-ded9-4d3f-8bf6-c1d0f15ddecc",
   "metadata": {},
   "outputs": [],
   "source": []
  }
 ],
 "metadata": {
  "kernelspec": {
   "display_name": "Python 3 (ipykernel)",
   "language": "python",
   "name": "python3"
  },
  "language_info": {
   "codemirror_mode": {
    "name": "ipython",
    "version": 3
   },
   "file_extension": ".py",
   "mimetype": "text/x-python",
   "name": "python",
   "nbconvert_exporter": "python",
   "pygments_lexer": "ipython3",
   "version": "3.10.8"
  }
 },
 "nbformat": 4,
 "nbformat_minor": 5
}
